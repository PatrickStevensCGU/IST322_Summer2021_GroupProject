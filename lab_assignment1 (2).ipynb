{
  "nbformat": 4,
  "nbformat_minor": 0,
  "metadata": {
    "colab": {
      "name": "lab_assignment1",
      "provenance": [],
      "collapsed_sections": []
    },
    "kernelspec": {
      "name": "python3",
      "display_name": "Python 3"
    },
    "language_info": {
      "name": "python"
    }
  },
  "cells": [
    {
      "cell_type": "code",
      "metadata": {
        "id": "GWpFXY89ZIB1"
      },
      "source": [
        "from bs4 import BeautifulSoup\n",
        "import requests\n",
        "import pandas as pd\n",
        "\n",
        "# def url list\n",
        "url = 'https://www.yelp.com/biz/upland-rheumatology-center-upland-2?osq=doctors'\n",
        "# Make a GET request to the target URL to get the raw HTML data\n",
        "r = requests.get(url).text\n",
        " \n",
        "# Use BeautifulSoup to parse HTML\n",
        "soup = BeautifulSoup(r,'html.parser')"
      ],
      "execution_count": null,
      "outputs": []
    },
    {
      "cell_type": "markdown",
      "metadata": {
        "id": "aQWSExvUpZNL"
      },
      "source": [
        "# question 1"
      ]
    },
    {
      "cell_type": "code",
      "metadata": {
        "colab": {
          "base_uri": "https://localhost:8080/"
        },
        "id": "zwbloq6AHE7_",
        "outputId": "b34b7b03-ec9f-4892-9eb4-187dab421d5a"
      },
      "source": [
        "# Check pages\n",
        "pages = soup.findAll(class_ = ' undefined display--inline-block__373c0__2de_K border-color--default__373c0__2oFDT')\n",
        "page = [p.text for p in pages]\n",
        "try:\n",
        "  pages_amount = int(page[-1])\n",
        "except Exception:\n",
        "  print('class might be wrong or page amount is 1')\n",
        "  pages_amount = 1\n",
        "else:\n",
        "  print(pages_amount)"
      ],
      "execution_count": null,
      "outputs": [
        {
          "output_type": "stream",
          "text": [
            "4\n"
          ],
          "name": "stdout"
        }
      ]
    },
    {
      "cell_type": "code",
      "metadata": {
        "id": "8owyw8GS9TIL"
      },
      "source": [
        "def current_page_output(url):\n",
        "\n",
        "  r = requests.get(url).text\n",
        "  # Use BeautifulSoup to parse HTML\n",
        "  soup = BeautifulSoup(r,'html.parser')\n",
        "\n",
        "  review_body = soup.findAll('section', {'class': ' margin-t4__373c0__1TRkQ padding-t4__373c0__3hVZ3 border--top__373c0__19Owr border-color--default__373c0__2oFDT',\n",
        "                                        'aria-label': 'Recommended Reviews'})\n",
        "  \n",
        "  names,rates,date,content = [],[],[],[]\n",
        "  customer_content = review_body[0].findAll('div', class_ = ' review__373c0__13kpL border-color--default__373c0__2oFDT')\n",
        "\n",
        "  for customer in customer_content:\n",
        "    con_temp = customer.findAll(class_='raw__373c0__3rcx7', attrs={'lang':'en'})\n",
        "    dat_temp = customer.findAll('span',class_ = ' css-e81eai')\n",
        "    r_temp = customer.findAll('div', role = 'img')\n",
        "\n",
        "    reply_name = customer.find('p', class_ = ' css-m6anxm')\n",
        "    if reply_name == None:\n",
        "      content.append(con_temp[0].text)\n",
        "      date.append(dat_temp[0].text)\n",
        "      rates.append(r_temp[0]['aria-label'])\n",
        "    else:\n",
        "      content.append(con_temp[0].text)\n",
        "      date.append(dat_temp[0].text)\n",
        "      rates.append(r_temp[0]['aria-label'])\n",
        "\n",
        "    n_temp = customer.find('a',class_ = 'css-166la90')\n",
        "    names.append(n_temp.text)\n",
        "    \n",
        "    # if len(r_temp) > 1:\n",
        "    #   names.append(n_temp.text)\n",
        "    #   for ra in r_temp:\n",
        "    #     rate_t = ra['aria-label']\n",
        "    #     rates.append(rate_t)\n",
        "    # else:\n",
        "    #   rates.append(r_temp[0]['aria-label'])\n",
        "  return [names,rates,date,content]\n"
      ],
      "execution_count": null,
      "outputs": []
    },
    {
      "cell_type": "code",
      "metadata": {
        "id": "F7fR165IIOyu"
      },
      "source": [
        "ini_data = current_page_output(url)\n",
        "whole_data = {'names':ini_data[0] , 'rates':ini_data[1] , 'date':ini_data[2] , 'content':ini_data[3]}"
      ],
      "execution_count": null,
      "outputs": []
    },
    {
      "cell_type": "code",
      "metadata": {
        "id": "_i-gUqscHY_H"
      },
      "source": [
        "if pages_amount > 1:\n",
        "  for pa in range(1,pages_amount):\n",
        "    url_temp = url + '&start=' + str(10*pa)\n",
        "    page_data_cur = current_page_output(url_temp)\n",
        "    whole_data['names'] = whole_data['names'] + page_data_cur[0]\n",
        "    whole_data['rates'] = whole_data['rates'] + page_data_cur[1]\n",
        "    whole_data['date'] = whole_data['date'] + page_data_cur[2]\n",
        "    whole_data['content'] = whole_data['content'] + page_data_cur[3]\n"
      ],
      "execution_count": null,
      "outputs": []
    },
    {
      "cell_type": "code",
      "metadata": {
        "id": "8SIVuoqfasPM",
        "colab": {
          "base_uri": "https://localhost:8080/",
          "height": 191
        },
        "outputId": "cf0ca1fe-ef99-4aa6-f605-5f0d3f32f3ab"
      },
      "source": [
        "df = pd.DataFrame(whole_data)\n",
        "df.head()"
      ],
      "execution_count": null,
      "outputs": [
        {
          "output_type": "execute_result",
          "data": {
            "text/html": [
              "<div>\n",
              "<style scoped>\n",
              "    .dataframe tbody tr th:only-of-type {\n",
              "        vertical-align: middle;\n",
              "    }\n",
              "\n",
              "    .dataframe tbody tr th {\n",
              "        vertical-align: top;\n",
              "    }\n",
              "\n",
              "    .dataframe thead th {\n",
              "        text-align: right;\n",
              "    }\n",
              "</style>\n",
              "<table border=\"1\" class=\"dataframe\">\n",
              "  <thead>\n",
              "    <tr style=\"text-align: right;\">\n",
              "      <th></th>\n",
              "      <th>names</th>\n",
              "      <th>rates</th>\n",
              "      <th>date</th>\n",
              "      <th>content</th>\n",
              "    </tr>\n",
              "  </thead>\n",
              "  <tbody>\n",
              "    <tr>\n",
              "      <th>0</th>\n",
              "      <td>Adriana L.</td>\n",
              "      <td>5 star rating</td>\n",
              "      <td>5/15/2021</td>\n",
              "      <td>With the Covid-19 restrictions lifting I decid...</td>\n",
              "    </tr>\n",
              "    <tr>\n",
              "      <th>1</th>\n",
              "      <td>Maxine S.</td>\n",
              "      <td>1 star rating</td>\n",
              "      <td>6/26/2021</td>\n",
              "      <td>It's pretty clear Dr Kohkab is not coming back...</td>\n",
              "    </tr>\n",
              "    <tr>\n",
              "      <th>2</th>\n",
              "      <td>Mina I.</td>\n",
              "      <td>5 star rating</td>\n",
              "      <td>6/15/2021</td>\n",
              "      <td>I've been Dr. Najafabadi's patient for a coupl...</td>\n",
              "    </tr>\n",
              "    <tr>\n",
              "      <th>3</th>\n",
              "      <td>Gilbert C.</td>\n",
              "      <td>1 star rating</td>\n",
              "      <td>10/16/2020</td>\n",
              "      <td>Horrible Service! Tiffany and Karina are incon...</td>\n",
              "    </tr>\n",
              "    <tr>\n",
              "      <th>4</th>\n",
              "      <td>Dustin C.</td>\n",
              "      <td>5 star rating</td>\n",
              "      <td>11/4/2018</td>\n",
              "      <td>Awesome team, very knowledgeable. My wife was ...</td>\n",
              "    </tr>\n",
              "  </tbody>\n",
              "</table>\n",
              "</div>"
            ],
            "text/plain": [
              "        names  ...                                            content\n",
              "0  Adriana L.  ...  With the Covid-19 restrictions lifting I decid...\n",
              "1   Maxine S.  ...  It's pretty clear Dr Kohkab is not coming back...\n",
              "2     Mina I.  ...  I've been Dr. Najafabadi's patient for a coupl...\n",
              "3  Gilbert C.  ...  Horrible Service! Tiffany and Karina are incon...\n",
              "4   Dustin C.  ...  Awesome team, very knowledgeable. My wife was ...\n",
              "\n",
              "[5 rows x 4 columns]"
            ]
          },
          "metadata": {
            "tags": []
          },
          "execution_count": 6
        }
      ]
    },
    {
      "cell_type": "code",
      "metadata": {
        "colab": {
          "base_uri": "https://localhost:8080/"
        },
        "id": "x-iOhKvBehos",
        "outputId": "69eed729-9bbd-4e9d-f568-123dd35486c8"
      },
      "source": [
        "df.describe"
      ],
      "execution_count": null,
      "outputs": [
        {
          "output_type": "execute_result",
          "data": {
            "text/plain": [
              "<bound method NDFrame.describe of            names  ...                                            content\n",
              "0     Adriana L.  ...  With the Covid-19 restrictions lifting I decid...\n",
              "1      Maxine S.  ...  It's pretty clear Dr Kohkab is not coming back...\n",
              "2        Mina I.  ...  I've been Dr. Najafabadi's patient for a coupl...\n",
              "3     Gilbert C.  ...  Horrible Service! Tiffany and Karina are incon...\n",
              "4      Dustin C.  ...  Awesome team, very knowledgeable. My wife was ...\n",
              "5       Rilee C.  ...  I've been trying to get an appointment with a ...\n",
              "6   Christina U.  ...  Cece the office manager is the most unprofessi...\n",
              "7      Sharyn H.  ...  I accept the explanation given for the circums...\n",
              "8     Michael L.  ...  I was there cup of times, never seem by the Dr...\n",
              "9      Gisela S.  ...  Made me feel like like my visit unimportant. W...\n",
              "10    Cynthia V.  ...  I was just seen by Mary, the PA, today. Everyo...\n",
              "11       Lisa B.  ...  For years I have been suffering from bad migra...\n",
              "12     Blanca C.  ...  I needed shots of B12 and Toradol because I'm ...\n",
              "13     Skylar K.  ...  I have been going to the nurse practitioner, M...\n",
              "14       Beth H.  ...  Dr Kokhab is an excellent dr he takes the time...\n",
              "15   Patricia S.  ...  Great doctor and staff. I've been a patient fo...\n",
              "16        Sam P.  ...  I've been seen Dr. Mary here for 1 year now. I...\n",
              "17      Wendy D.  ...  Want to thank Dr Kokhab for seeing and treatin...\n",
              "18  Elizabeth D.  ...  I'm into my second week of plant based eating ...\n",
              "19       Mark M.  ...  I have gone to this office many times and wait...\n",
              "20     Steven C.  ...  Don't come to this office as they will give yo...\n",
              "21    Valerie B.  ...  I'm a first time patient, who saw Dr. Kokhab t...\n",
              "22       Dawn L.  ...  Dr Marjan  Khaleghi is the best Rheumatologist...\n",
              "23      Katie P.  ...  Dr. Kokhab and his office are doing a great jo...\n",
              "24      Cindi R.  ...  I had an appointment with Dr. Kokhab today. He...\n",
              "25     Tanaya C.  ...  Well this was my first time going to an urgent...\n",
              "26     Amanda S.  ...  Met with Mary, the nurse practitioner, and imm...\n",
              "27    Theresa M.  ...  I can't say enough amazing things about Dr. Ko...\n",
              "28       Marc S.  ...  Simply the best! When there is a complicated p...\n",
              "29      Chris R.  ...  Went to check out Dr. Morris Kokhab and didnt ...\n",
              "30     Lettie C.  ...  First time ever seeing a Rheumatologist and he...\n",
              "31     Julie. E.  ...  Dr. Kokhab is an awesome doctor he does not ru...\n",
              "32         Di M.  ...  I found Dr. Kokhab almost 2 years ago after mo...\n",
              "33   Kirbeena D.  ...  Great place, really good doctor.  Actually loo...\n",
              "34    Michael J.  ...  I have known Dr. Kokhab since he worked at UCL...\n",
              "35    Melinda S.  ...  This doctor is brilliant, kind and thorough.  ...\n",
              "36      ANGIE D.  ...  My husband is a patient of Dr. K and I have ac...\n",
              "37       Sara C.  ...  I saw Dr. Kokhab twice at the urgent care in U...\n",
              "38      Julie P.  ...  OMG! This Urgent Care is great! Since I couldn...\n",
              "\n",
              "[39 rows x 4 columns]>"
            ]
          },
          "metadata": {
            "tags": []
          },
          "execution_count": 7
        }
      ]
    },
    {
      "cell_type": "markdown",
      "metadata": {
        "id": "0vz_kmItpd9g"
      },
      "source": [
        "# Question 2"
      ]
    },
    {
      "cell_type": "code",
      "metadata": {
        "colab": {
          "base_uri": "https://localhost:8080/"
        },
        "id": "FRPOxRvFLE31",
        "outputId": "03533ea0-73dc-4b2d-d1de-b74d0ed61121"
      },
      "source": [
        "from google.colab import drive\n",
        "drive.mount('/content/gdrive')"
      ],
      "execution_count": null,
      "outputs": [
        {
          "output_type": "stream",
          "text": [
            "Mounted at /content/gdrive\n"
          ],
          "name": "stdout"
        }
      ]
    },
    {
      "cell_type": "code",
      "metadata": {
        "id": "os0heD7vL8am"
      },
      "source": [
        "df.to_csv('/content/gdrive/My Drive/NLP assignments/assign1.csv',index=False)"
      ],
      "execution_count": null,
      "outputs": []
    },
    {
      "cell_type": "markdown",
      "metadata": {
        "id": "xrSx6q9ipgxm"
      },
      "source": [
        "# Question 3"
      ]
    },
    {
      "cell_type": "code",
      "metadata": {
        "id": "I-GdvR9WvCzt"
      },
      "source": [
        "import nltk"
      ],
      "execution_count": null,
      "outputs": []
    },
    {
      "cell_type": "code",
      "metadata": {
        "colab": {
          "base_uri": "https://localhost:8080/"
        },
        "id": "xZQzeG9NA-X_",
        "outputId": "a78406ec-68a8-4dd9-95a4-7f84c92e44dc"
      },
      "source": [
        "!pip install pyspellchecker\n",
        "!pip install contractions\n",
        "nltk.download('punkt')\n",
        "nltk.download('stopwords')"
      ],
      "execution_count": null,
      "outputs": [
        {
          "output_type": "stream",
          "text": [
            "Collecting pyspellchecker\n",
            "\u001b[?25l  Downloading https://files.pythonhosted.org/packages/64/c7/435f49c0ac6bec031d1aba4daf94dc21dc08a9db329692cdb77faac51cea/pyspellchecker-0.6.2-py3-none-any.whl (2.7MB)\n",
            "\u001b[K     |████████████████████████████████| 2.7MB 5.3MB/s \n",
            "\u001b[?25hInstalling collected packages: pyspellchecker\n",
            "Successfully installed pyspellchecker-0.6.2\n",
            "Collecting contractions\n",
            "  Downloading https://files.pythonhosted.org/packages/93/f4/0ec4a458e4368cc3be2c799411ecf0bc961930e566dadb9624563821b3a6/contractions-0.0.52-py2.py3-none-any.whl\n",
            "Collecting textsearch>=0.0.21\n",
            "  Downloading https://files.pythonhosted.org/packages/d3/fe/021d7d76961b5ceb9f8d022c4138461d83beff36c3938dc424586085e559/textsearch-0.0.21-py2.py3-none-any.whl\n",
            "Collecting pyahocorasick\n",
            "\u001b[?25l  Downloading https://files.pythonhosted.org/packages/7f/c2/eae730037ae1cbbfaa229d27030d1d5e34a1e41114b21447d1202ae9c220/pyahocorasick-1.4.2.tar.gz (321kB)\n",
            "\u001b[K     |████████████████████████████████| 327kB 5.2MB/s \n",
            "\u001b[?25hCollecting anyascii\n",
            "\u001b[?25l  Downloading https://files.pythonhosted.org/packages/a3/14/666cd44bf53f36a961544af592cb5c5c800013f9c51a4745af8d7c17362a/anyascii-0.2.0-py3-none-any.whl (283kB)\n",
            "\u001b[K     |████████████████████████████████| 286kB 18.8MB/s \n",
            "\u001b[?25hBuilding wheels for collected packages: pyahocorasick\n",
            "  Building wheel for pyahocorasick (setup.py) ... \u001b[?25l\u001b[?25hdone\n",
            "  Created wheel for pyahocorasick: filename=pyahocorasick-1.4.2-cp37-cp37m-linux_x86_64.whl size=85374 sha256=022789db3b5ac7d00d20e0d15063def564c12ebb2bc7d244e134db10a7f1e582\n",
            "  Stored in directory: /root/.cache/pip/wheels/3a/03/34/77e3ece0bba8b86bfac88a79f923b36d805cad63caeba38842\n",
            "Successfully built pyahocorasick\n",
            "Installing collected packages: pyahocorasick, anyascii, textsearch, contractions\n",
            "Successfully installed anyascii-0.2.0 contractions-0.0.52 pyahocorasick-1.4.2 textsearch-0.0.21\n",
            "[nltk_data] Downloading package punkt to /root/nltk_data...\n",
            "[nltk_data]   Unzipping tokenizers/punkt.zip.\n",
            "[nltk_data] Downloading package stopwords to /root/nltk_data...\n",
            "[nltk_data]   Unzipping corpora/stopwords.zip.\n"
          ],
          "name": "stdout"
        },
        {
          "output_type": "execute_result",
          "data": {
            "text/plain": [
              "True"
            ]
          },
          "metadata": {
            "tags": []
          },
          "execution_count": 11
        }
      ]
    },
    {
      "cell_type": "code",
      "metadata": {
        "id": "BhSOcLQtMXiz"
      },
      "source": [
        "from spellchecker import SpellChecker\n",
        "from string import punctuation\n",
        "from nltk.corpus import stopwords"
      ],
      "execution_count": null,
      "outputs": []
    },
    {
      "cell_type": "code",
      "metadata": {
        "id": "4jtuB7irMtkO"
      },
      "source": [
        "from nltk.tokenize import (sent_tokenize, \n",
        "                           word_tokenize, \n",
        "                           TreebankWordTokenizer, \n",
        "                           wordpunct_tokenize)\n",
        "import contractions"
      ],
      "execution_count": null,
      "outputs": []
    },
    {
      "cell_type": "markdown",
      "metadata": {
        "id": "4K1fiR7fqBqf"
      },
      "source": [
        "## Add contraction expansion and Tokenize the content"
      ]
    },
    {
      "cell_type": "code",
      "metadata": {
        "colab": {
          "base_uri": "https://localhost:8080/"
        },
        "id": "CfFB7INMNBFD",
        "outputId": "54d2163b-7540-47b8-bd4e-0421f640c70e"
      },
      "source": [
        "# Apply the contraction expansion \n",
        "reviews = []\n",
        "for con in df['content']:\n",
        "  expanded_word = []\n",
        "  for word in con.split():\n",
        "    expanded_word.append(contractions.fix(word))  \n",
        "  con_temp = ' '.join(expanded_word)\n",
        "  reviews.append(con_temp)\n",
        "\n",
        "print(reviews)\n",
        "\n",
        "# Tokenize the review content\n",
        "review_token_list = [word_tokenize(i) for i in reviews] # list comprehension\n",
        "print(*review_token_list[:5], sep= '\\n')\n",
        "print(len(review_token_list))"
      ],
      "execution_count": null,
      "outputs": [
        {
          "output_type": "stream",
          "text": [
            "['With the Covid-19 restrictions lifting I decided to come into the office to see a rheumatologist as my PCP recommend. I was seen by Dr. Stacey Schulman. Dr. Schulman has been a godsend! She listened to my concerns and symptoms. She was able to accurately diagnose me, and immediately start me on a plan. We are still working to find the right medication/dosage combination but I feel that I am in good hands. I have already noticed significant improvements. Thank you, Dr. Schulman.', 'it is pretty clear Dr Kohkab is not coming back. I wish he would have been honest about leaving the practice instead of us having to deal with a NP.', \"I have been Dr. Najafabadi's patient for a couple years and have always been very pleased with the care and attention I have received from him. he is very knowledgeable, professional and caring. His staff are also courteous and professional. Great experience overall!\", 'Horrible Service! Tiffany and Karina are inconsiderate, rude and disrespectful! do not go to this office. They cancel my wife medication because we did not respond to the pharmacy on when we would be available to pick up our medication while we were on vacation. They did not have have the right to cancel my wife prescription that was approved. They are asking her for her to go on for lab work. This medication does not require lab work. They do not know why they are doing. After speaking to the doctor today, he agreed with us that lab work is not required! They do not bother to call the doctor and they could not provide the name of the office manager who was on vacation or unavailable until 5 days later. Would not recommend the office whatsoever!', 'Awesome team, very knowledgeable. My wife was seen and recommended by Gloria Stevens, MD (who is also within the same business complex) -- we were seen rather quick, and quickly the doctor was able to get on the same page. She asked key questions, added a steroid to help cycle my wife off prednisone and was very helpful throughout the entire process. My wife left with comfort, and hope. My wife is battling an autoimmune disease which is 50/50 either Chrons or Henoch-Schonlein -- we are puzzling this all together and are hoping its just Henoch-Schonlein. We will know very soon as my wife has biopsies pending USC, and then a followup with the GI Doctor.Highly recommended.', 'I have been trying to get an appointment with a rheumatologist here for several weeks. I initially called in the middle of the day, got a really rude woman who wanted me, personally, to collect my files, even though I would signed paperwork so it could be released to them upon their request, before she would even put me in the appointment book.I had my files faxed over, called back not 15 minutes later, got put on hold while someone \"checks for my file\". I am on hold so long, the hold system hangs up on me. I call back immediately, I get their voicemail; they have mysteriously closed in the middle of their stated business hours, while a patient is sitting on hold and they are supposedly doing something for that patient. I wonder if it is just that all lines are busy, so I call a few more times over the next hour; nothing.I called during business hours the next day, someone picked up and put me on hold, I waited several minutes, the phone\\'s hold system hung up on me, again, because I would been on hold too long. I called back, and, again, middle of stated business hours, they were mysteriously closed. Again, tried to call several more times over the next hour; nothing.This happened several times, over the course of several days, with me leaving voicemails with my contact info whenever I got their voicemail box. No calls back, no voicemails for me, nothing.I *finally* got someone on the line the other day willing to actually get me an appointment; I asked (politely) what is going on, as I have received *no contact whatsoever* from the office. I received a shirty comment about them calling and leaving me a voicemail ages ago (as I am looking directly at my call logs madam; nothing from you guys!). I ask what number they were calling, as I would continued leaving messages since the date they would supposedly called me.Instead of calling the number I kept leaving, over and over again on my voicemails, they supposedly called a number that I have not left them at all, that was in my healthcare paperwork that had been faxed over. A number that at no point has been my primary contact number, and has not been put in any of my paperwork in the last 7 months. My contact number I kept leaving in voicemails is literally in there in my gp contact info with no other phone number. The only way they would have the old one is by going into my insurance info and bypassing *all my current information* to get to the old stuff. madam, you did not leave a voicemail at that old number; that number *has not been active* since the beginning of the pandemic. I am pretty sure the voicemail for it does not even work anymore; a distant relative tried calling not 2 days after the center supposedly called and it had not even been re-allocated to another person yet and was completely out of service, with no ability to leave voicemails.I have not even had the chance to see a doctor yet, and this place is already pretty sus. I am genuinely hoping actually seeing the doctor will change my mind about this place, and will update my review afterward.', 'Cece the office manager is the most unprofessional person. I will be switching offices. Save the stress and go somewhere else!', 'I accept the explanation given for the circumstances I encountered. That does not change my past impressions but it does leave room for new ones. Dr Kokhab is no longer running an urgent care and in the new office he has new personnel. I will be going back for follow up care.', 'I was there cup of times, never seem by the Dr. him self. Always told me he was busy, and seem by his nurse practitioner. She does not have the knowledge to see patients by herself.Mistreated my condition, and prescribed a medication with lots of side effects just to test it out.Stay away this horrible office. And try to get seem with a Doctor that have time for his patients!', 'Made me feel like like my visit unimportant. Was sarcastic when I answered his questions regarding my health.', 'I was just seen by Mary, the PA, today. Everyone in the office was professional, kind, & even personable. Yes, appointments are scheduled out a bit, but they actually got me in a little sooner, due to a cancellation. Frankly, it is worth the wait. I would rather have a hard time getting an appointment and get the treatment that I need and deserve, than get a sooner appointment with someone who rushes me in and out, vs Mary who took her time with me. She provided a very thorough exam, went over testing that had already been done by my primary and ENT, and ordered more testing. She does not do what I have had doctors do in the past... You know those doctors? The ones that give you medicine to try? I look forward to working with her more, and feeling a lot better!', 'For years I have been suffering from bad migraines and overall aches and pain. Just a simple touch to my body would trigger agonizing pain. It was not until I started sharing my problems with other family members who have been dealing with similar issues that they suggested that I go see a rheumatologist. Thank goodness that I took their advice and found Dr. K. The first time that I met with Dr. K, he immediately sent me out for labwork. I scheduled a follow up exam with Dr. K to review my lab results and after a thorough in-office examination Dr. K was able to diagnose me. Dr. K has put me on a course of treatment that has done wonders for my headaches and has also helped make my pain more tolerable. Dr. K is very knowledgeable and caring. He really takes time to listen and I never feel rushed. Another thing that I really appreciate about Dr. K is that he knows how I feel about taking medication. He does not try to push me into taking anything that I am not comfortable with. He has no problem explaining recommended medications and their side effects. In fact, he even writes the medications down for me before I leave so that I can do my own research and ponder over my decision for our next visit. If you find yourself in a similar situation like mine, I would highly recommend Dr. K. He is absolutely wonderful!', 'I needed shots of B12 and Toradol because I am completely exhausted and in extreme pain and wanted to get in and simply get the shots and I was told no availability until April. Well my pain and exhaustion just comes with no warning. I am going to have to look for another rheumy who can accommodate me. This is ridiculous.', 'I have been going to the nurse practitioner, Mary, here for more than 2 years now. From the very first time I came in, to now, Mary has been incredibly kind, caring and helpful. She is very well informed on how to treat her patients and I am very grateful to have her as my rheumatologist. I trust her completely and will continue to trust her as she treats me. The staff here are also very friendly and helpful whenever I have a problem with appointments or prescriptions, both on the phone and in person. I feel very lucky to have this group of staff.', 'Dr Kokhab is an excellent dr he takes the time to talk to youHe explains things and does not over react.I highly recommend him', 'Great doctor and staff. I have been a patient for almost 10 years. I also see Mary, the physician assistant, and she is the most caring doctor ever. She takes her time with you and you never feel rushed. Mary and Dr. Kokhab are very kind, caring, and knowledgeable doctors. I highly recommend them both.', \"I have been seen Dr. Mary here for 1 year now. I absolutely adore her. She takes the time to speak with you without rushing out the door and makes it personal rather than just a sterile environment. I had not seen her for 6 months due to my insurance changing, but when I went back she immediately asked me how my son was doing--she remembered. Not to mention she gets the job done and does whatever it takes to make you better. I went there barely being able to move because of my psoriatic arthritis. With her help (after my dermatologist failed me) she was able to get medication approved that worked for me and I went from a pain scale of 10 to a ZERO! This has allowed me to do everything a mommy needs to do for their 1 year old and I cannot think her enough. I wen my there with a bleak outlook (self imposed) because I could barely move. It hurt to roll over in bed, could not get out of bed without help and could not even change my sons diaper without pain. I did not think there was any hope until Mary. Truly thankful for my new quality of life because of Mary.The ONLY not so great thing I can say about this place is that it is sometimes difficult to reach somebody. I usually get VM when I try to schedule an appointment and have to keep calling back bc my calls are not returned in a timely manner. But, that is not Mary's fault!\", 'Want to thank Dr Kokhab for seeing and treating me several weeks ago as my pain was unbearable; I know I am a difficult patient due to my work schedule and my not getting the necessary bloodwork done. Once bloodwork was received his staff contacted me and called in the necessary prescription. On my follow up appointment he explained what is needed for my condition that finally got through to me. He answered all of my concerns and gave me recommendations that I plan on implementing as soon as possible. Feeling better now and will be doing what is needed of me to deal with RA.', 'I am into my second week of plant based eating since seeing Dr Kokhab. I am feeling so much better! Still cannot believe what a difference it has made in my day to day activities. He is amazing and very knowledgeable. My body was wracked with pain that I was beyond exhausted and miserable!! I am so glad that my primary Physician, Dr Zuniga referred me to Dr Kokhab!!! I am feeling more positive about my outlook for managing my pain and depression. Thank you Dr Kokhab.', 'I have gone to this office many times and wait for hours just for the Dr to say although I have positive labs for a condition he does not think that is what is the because of my pain. In addition his demeanor is creepy I was very uncomfortable in a room with him every time. I would find another place to go.', 'do not come to this office as they will give you a shot that may not cover by your insurance. I later found out It cost only $5 copay on those shots to do it at home. They will bill you $120 not covered by your insurance and not to tell you about it upfront. Those shots were samples provided by pharmaceutical firms. No other doctors have charged me samples.', 'I am a first time patient, who saw Dr. Kokhab today. Despite being 15 minutes late I was seen promptly and evaluated thoroughly. They pulled my medical records quickly too. This doctor is very professional and helpful. As I was leaving I noticed no one asked to schedule my follow up visit, but it is no biggie and then I got a call from them to make my follow up. 5 star service!!!', 'Dr Marjan Khaleghi is the best Rheumatologist. She is so compassionate for me. I can call and get in to see her within hours. When my pain is so severe she totally understands it. She really cares about you. She does everything right then and there before you leave her office. She makes sure to help your pain. I have never had a doctor get you in so fast , she will even skip her lunch to help me. I recommend her highly if you suffer from arthritis.', 'Dr. Kokhab and his office are doing a great job treating me for fibromyalgia. His whole office is very polite and caring. They explained the condition to me in great detail and took my concerns about living on medication very seriously. I appreciate Dr. Kokhab working with me to devise a live able treatment plan. I highly recommend him!', 'I had an appointment with Dr. Kokhab today. He listened and made some recommendations, that I will take into consideration.', 'Well this was my first time going to an urgent care vs going to an emergency room...and i was extremely satisfied....i was seen in an timely matter and the janitors was constantly wiping the chairs and sanitizing them she also walked around with the broom sweeping..the front desk was kind, it was the man who worked the front desk that really caught my eye though...it was late and closing i was the last person to be seen, however a girl walked in with her hand bleeding he told them they were closed at first but to hold on and he walked to the back told the dr. And came back and said he did not feel right turning them away....that is what i like to see... Well 5 stars from me', 'Met with Mary, the nurse practitioner, and immediately felt at ease. She was so calm and approachable. She took the time to do a proper assessment, get a detailed history from me, and explain all my labs she was running thoroughly. At the follow up appointment, she again explained my results thoroughly and made sure I did not have any questions before I left. You can tell she knows this specialty well, is passionate about it, and has a wonderful bedside manner.!', 'I cannot say enough amazing things about Dr. Kokhab and his staff. I have been seen by so many doctors and no one was able to help and I was starting to loose hope that I would get better. Dr. Kokhab is amazing!! He saw me and ran all the proper blood tests but once we got the results (literally that day), he went into action. He explained all options, I mean all options in order to make sure that I felt comfortable with the decision. His staff is very friendly and calls you back when they say they are going too. Many offices get so busy that they forget about you, not this office. I have had some flair ups and the doctor waited for me to make sure that it was not anything worst than just a flair up (which if you get flair ups, you know how painful they can be). My husband and I are so thankful we found Dr. Kokhab and I would recommend this office to everyone and anyone that needs this type of specalist.', 'Simply the best! When there is a complicated problem He knows how to find the right solutions. Not only is he a great clinician, he really goes out of his way to help everyone on a deeper level. If he has food in the back office he will give it to his patients. He treats me like family. Thank you Dr K', 'Went to check out Dr. Morris Kokhab and did not feel right. After the second and third appointment,I realized just how professional and caring Dr.Kokhab treats his patients.This M.D. is the best Rheumatologist in my opinion,that I have ever been treated by.I have been a retired Union Ironworker for some time and have been suffering from past injuries that is been attacking my body through some painful and difficult forms of arthritis.After several treatments by Dr.Kokhab,for the first time in many many years, I felt a change in my condition.I still have a long journey ahead, but thanks to Dr.Kokhab the genius,I actually have hope.Thankyou Dr.Kokhab for your professionalism and your great knowledge.For the first time in years,I see the light.', 'First time ever seeing a Rheumatologist and he did not even order blood work or X-rays. Sent me home with something for the pain that once I got it home read, do not take if you have asthma which I told him I did. He told me to take it anyway, now I am having to see a pulmonologist! Terrible doctor.', 'Dr. Kokhab is an awesome doctor he does not rush his appointments, takes time to answer all of your questions. Overall a very nice and warm person. He does all he could do to help you and resolve any issue you may have. His staff is great! If I could give him more stars i would=)', 'I found Dr. Kokhab almost 2 years ago after moving from Chicago. I did a lot of research and his reputation was excellent. I was not disappointed! Dr. Kokhab is compassionate, knowledgeable and respectful. He will develop a plan of action and never make you feel you are being rushed out the door. His staff is very nice and professional. There are 3 areas upon sign in. An eye specialist, urgent care and rheumatology. So it appears busy upon entering but wait times are very good.', 'Great place, really good doctor. Actually looks at you when you talk to him. Very pleased.', 'I have known Dr. Kokhab since he worked at UCLA. He moved to Upland a few years ago. I live in Sherman Oaks, but I still drive to Upland to see him for my medical needs. He is an amazing doctor. he has a nurse practitioner named Mary who is an incredible and knowledgeable practitioner. I have been treated by her a few times. She is the sweetest lady you would ever meet. She always makes me feel at ease. She listens to me and takes her time with me. I have recommended Dr. Kokhab and Mary to all my friends. They also have an Urgent care inside his office which makes it very convenient for quick and inexpensive medical treatments. A+++', 'This doctor is brilliant, kind and thorough. REALLY felt I was given his full attention, accurate diagnosis, treated promptly and effectively with an full explanation that I could understand. Kudos to you Dr. Kokhab! And, thank you for the excellent care.', \"My husband is a patient of Dr. K and I have accompanied him on a couple of office visits. He was the only doctor who was able to quickly diagnose my husband's condition after countless visits to our PCP, other urgent care, and the ER. After beginning treatment the doctor called our home to check how my husband was doing. In addition to being a great doctor, he also has a wonderful staff. The staff is not only professional, but also very friendly, and helpful. Everyone at this office truly cares about the patients.\", 'I saw Dr. Kokhab twice at the urgent care in Upland. I have had Fibromyalgia for 23 years now and I had just quit Norco 10-325 cold turkey after taking 5-6 pills a day for 5 years. Dr Kokhab helped me by giving me a non addictive medication similar to Tylenol and told me to make an appt at his office location to treat my Fibro. He seems like a very good Dr. and took his time twice to answer my questions and help me in any way he can. I will update you with more info after I see him tomorrow at his office.', \"OMG! This Urgent Care is great! Since I could not be seen at my regular Dr.'s office, not a good thing especially since I was having trouble breathing due to my asthma, I looked for an Urgent Care close to my house. I read the reviews for this location and they were all good. So I went. This place is so nice. Its pretty and clean, not like the ones that look like a workmans comp place. I think I was there for almost an hour, including filling out paperwork and my treatment. Amanda was the nurse who helped me, she was Very nice. I recommend this place to anyone who wants or needs help right away. Thank you , jparedes\"]\n",
            "['With', 'the', 'Covid-19', 'restrictions', 'lifting', 'I', 'decided', 'to', 'come', 'into', 'the', 'office', 'to', 'see', 'a', 'rheumatologist', 'as', 'my', 'PCP', 'recommend', '.', 'I', 'was', 'seen', 'by', 'Dr.', 'Stacey', 'Schulman', '.', 'Dr.', 'Schulman', 'has', 'been', 'a', 'godsend', '!', 'She', 'listened', 'to', 'my', 'concerns', 'and', 'symptoms', '.', 'She', 'was', 'able', 'to', 'accurately', 'diagnose', 'me', ',', 'and', 'immediately', 'start', 'me', 'on', 'a', 'plan', '.', 'We', 'are', 'still', 'working', 'to', 'find', 'the', 'right', 'medication/dosage', 'combination', 'but', 'I', 'feel', 'that', 'I', 'am', 'in', 'good', 'hands', '.', 'I', 'have', 'already', 'noticed', 'significant', 'improvements', '.', 'Thank', 'you', ',', 'Dr.', 'Schulman', '.']\n",
            "['it', 'is', 'pretty', 'clear', 'Dr', 'Kohkab', 'is', 'not', 'coming', 'back', '.', 'I', 'wish', 'he', 'would', 'have', 'been', 'honest', 'about', 'leaving', 'the', 'practice', 'instead', 'of', 'us', 'having', 'to', 'deal', 'with', 'a', 'NP', '.']\n",
            "['I', 'have', 'been', 'Dr.', 'Najafabadi', \"'s\", 'patient', 'for', 'a', 'couple', 'years', 'and', 'have', 'always', 'been', 'very', 'pleased', 'with', 'the', 'care', 'and', 'attention', 'I', 'have', 'received', 'from', 'him', '.', 'he', 'is', 'very', 'knowledgeable', ',', 'professional', 'and', 'caring', '.', 'His', 'staff', 'are', 'also', 'courteous', 'and', 'professional', '.', 'Great', 'experience', 'overall', '!']\n",
            "['Horrible', 'Service', '!', 'Tiffany', 'and', 'Karina', 'are', 'inconsiderate', ',', 'rude', 'and', 'disrespectful', '!', 'do', 'not', 'go', 'to', 'this', 'office', '.', 'They', 'cancel', 'my', 'wife', 'medication', 'because', 'we', 'did', 'not', 'respond', 'to', 'the', 'pharmacy', 'on', 'when', 'we', 'would', 'be', 'available', 'to', 'pick', 'up', 'our', 'medication', 'while', 'we', 'were', 'on', 'vacation', '.', 'They', 'did', 'not', 'have', 'have', 'the', 'right', 'to', 'cancel', 'my', 'wife', 'prescription', 'that', 'was', 'approved', '.', 'They', 'are', 'asking', 'her', 'for', 'her', 'to', 'go', 'on', 'for', 'lab', 'work', '.', 'This', 'medication', 'does', 'not', 'require', 'lab', 'work', '.', 'They', 'do', 'not', 'know', 'why', 'they', 'are', 'doing', '.', 'After', 'speaking', 'to', 'the', 'doctor', 'today', ',', 'he', 'agreed', 'with', 'us', 'that', 'lab', 'work', 'is', 'not', 'required', '!', 'They', 'do', 'not', 'bother', 'to', 'call', 'the', 'doctor', 'and', 'they', 'could', 'not', 'provide', 'the', 'name', 'of', 'the', 'office', 'manager', 'who', 'was', 'on', 'vacation', 'or', 'unavailable', 'until', '5', 'days', 'later', '.', 'Would', 'not', 'recommend', 'the', 'office', 'whatsoever', '!']\n",
            "['Awesome', 'team', ',', 'very', 'knowledgeable', '.', 'My', 'wife', 'was', 'seen', 'and', 'recommended', 'by', 'Gloria', 'Stevens', ',', 'MD', '(', 'who', 'is', 'also', 'within', 'the', 'same', 'business', 'complex', ')', '--', 'we', 'were', 'seen', 'rather', 'quick', ',', 'and', 'quickly', 'the', 'doctor', 'was', 'able', 'to', 'get', 'on', 'the', 'same', 'page', '.', 'She', 'asked', 'key', 'questions', ',', 'added', 'a', 'steroid', 'to', 'help', 'cycle', 'my', 'wife', 'off', 'prednisone', 'and', 'was', 'very', 'helpful', 'throughout', 'the', 'entire', 'process', '.', 'My', 'wife', 'left', 'with', 'comfort', ',', 'and', 'hope', '.', 'My', 'wife', 'is', 'battling', 'an', 'autoimmune', 'disease', 'which', 'is', '50/50', 'either', 'Chrons', 'or', 'Henoch-Schonlein', '--', 'we', 'are', 'puzzling', 'this', 'all', 'together', 'and', 'are', 'hoping', 'its', 'just', 'Henoch-Schonlein', '.', 'We', 'will', 'know', 'very', 'soon', 'as', 'my', 'wife', 'has', 'biopsies', 'pending', 'USC', ',', 'and', 'then', 'a', 'followup', 'with', 'the', 'GI', 'Doctor.Highly', 'recommended', '.']\n",
            "39\n"
          ],
          "name": "stdout"
        }
      ]
    },
    {
      "cell_type": "markdown",
      "metadata": {
        "id": "BlkrCqMSp-tO"
      },
      "source": [
        "## Check Misspells"
      ]
    },
    {
      "cell_type": "code",
      "metadata": {
        "colab": {
          "base_uri": "https://localhost:8080/"
        },
        "id": "71Xbua7INv0a",
        "outputId": "fde5f3c2-05c4-4071-b25c-be9e158b0c08"
      },
      "source": [
        "# Check the misspells\n",
        "spell = SpellChecker()\n",
        "misspelled = spell.unknown(review_token_list[0])\n",
        "for comment_token in review_token_list[1:]:\n",
        "  miss_t = spell.unknown(comment_token)\n",
        "  misspelled = misspelled.union(miss_t)\n",
        "print(misspelled)\n",
        "print(len(misspelled))"
      ],
      "execution_count": null,
      "outputs": [
        {
          "output_type": "stream",
          "text": [
            "{'knowledge.for', 'mary.the', 'vm', 'vs', '.i', 'x-rays', 'nothing.this', 'zuniga', 'would=', 'information*', 'herself.mistreated', 'kokhab', 'norco', '.that', 'b12', \"'s\", 'nothing.i', 'sweeping..the', 'medication/dosage', '10-325', 'jparedes', 'doctor.highly', 'fibro', '*no', 'dr.kokhab', 'dr.', 'covid-19', 'khaleghi', 'appt', 'dr', 'arthritis.after', 'me.instead', 'specalist', 'marjan', '*all', 'schulman', 'henoch-schonlein', 'ironworker', 'najafabadi', \"''\", 're-allocated', '...', 'np', '*has', 'a+++', 'react.i', 'hope.thankyou', 'in-office', 'workmans', '*finally*', 'patients.this', 'voicemails.i', 'bc', 'active*', 'copay', 'labwork', 'k', 'm.d', 'kohkab', 'condition.i', 'md', '50/50', '``', 'by.i', 'book.i', 'k.', 'whatsoever*', 'out.stay', 'chrons', '--', 'rheumatology', 'afterward', '5-6', 'gp', 'toradol', 'pcp'}\n",
            "76\n"
          ],
          "name": "stdout"
        }
      ]
    },
    {
      "cell_type": "markdown",
      "metadata": {
        "id": "-fA0doEjkY2d"
      },
      "source": [
        "# Question 4 \n",
        "Normalization function"
      ]
    },
    {
      "cell_type": "code",
      "metadata": {
        "id": "wROlqXU7QPn6"
      },
      "source": [
        "# Apply the normalization \n",
        "def preprocessing(tokens):\n",
        "  tokens = [token.lower() for token in tokens] # lowercasing\n",
        "  tokens = [token for token in tokens if not token.isdigit()] # remove digit - isdigit is a python buit-in method. \n",
        "  tokens = [token for token in tokens if token not in punctuation] # remove punctuations\n",
        "\n",
        "  mystopwords = set(stopwords.words(\"english\")) # we use english stopwords list.\n",
        "  tokens = [token for token in tokens if token not in mystopwords] # remove stopwords\n",
        "  \n",
        "  tokens = [token for token in tokens if len(token)>=3] # remove tokens with one or two characters\n",
        "  return tokens\n",
        "\n"
      ],
      "execution_count": null,
      "outputs": []
    },
    {
      "cell_type": "code",
      "metadata": {
        "id": "esfVwMDKTwj1"
      },
      "source": [
        "def token_after_normal(text):\n",
        "  # tokenization\n",
        "  tokens = wordpunct_tokenize(text)\n",
        "  # run basic preprocessing\n",
        "  pre_proc_text = preprocessing (tokens)\n",
        "  return pre_proc_text"
      ],
      "execution_count": null,
      "outputs": []
    },
    {
      "cell_type": "markdown",
      "metadata": {
        "id": "LPty4NCikfO7"
      },
      "source": [
        "## Normalization output"
      ]
    },
    {
      "cell_type": "code",
      "metadata": {
        "colab": {
          "base_uri": "https://localhost:8080/"
        },
        "id": "eaho5O_cTGLU",
        "outputId": "6a9652bd-7f99-448a-dae4-88353b616de0"
      },
      "source": [
        "whole_rwords = []\n",
        "for one_review in review_token_list:\n",
        "  one_review_f = ' '.join(one_review)\n",
        "  whole_temp = token_after_normal(one_review_f)\n",
        "  whole_rwords += whole_temp\n",
        "\n",
        "print(whole_rwords)\n",
        "print(len(whole_rwords))\n"
      ],
      "execution_count": null,
      "outputs": [
        {
          "output_type": "stream",
          "text": [
            "['covid', 'restrictions', 'lifting', 'decided', 'come', 'office', 'see', 'rheumatologist', 'pcp', 'recommend', 'seen', 'stacey', 'schulman', 'schulman', 'godsend', 'listened', 'concerns', 'symptoms', 'able', 'accurately', 'diagnose', 'immediately', 'start', 'plan', 'still', 'working', 'find', 'right', 'medication', 'dosage', 'combination', 'feel', 'good', 'hands', 'already', 'noticed', 'significant', 'improvements', 'thank', 'schulman', 'pretty', 'clear', 'kohkab', 'coming', 'back', 'wish', 'would', 'honest', 'leaving', 'practice', 'instead', 'deal', 'najafabadi', 'patient', 'couple', 'years', 'always', 'pleased', 'care', 'attention', 'received', 'knowledgeable', 'professional', 'caring', 'staff', 'also', 'courteous', 'professional', 'great', 'experience', 'overall', 'horrible', 'service', 'tiffany', 'karina', 'inconsiderate', 'rude', 'disrespectful', 'office', 'cancel', 'wife', 'medication', 'respond', 'pharmacy', 'would', 'available', 'pick', 'medication', 'vacation', 'right', 'cancel', 'wife', 'prescription', 'approved', 'asking', 'lab', 'work', 'medication', 'require', 'lab', 'work', 'know', 'speaking', 'doctor', 'today', 'agreed', 'lab', 'work', 'required', 'bother', 'call', 'doctor', 'could', 'provide', 'name', 'office', 'manager', 'vacation', 'unavailable', 'days', 'later', 'would', 'recommend', 'office', 'whatsoever', 'awesome', 'team', 'knowledgeable', 'wife', 'seen', 'recommended', 'gloria', 'stevens', 'also', 'within', 'business', 'complex', 'seen', 'rather', 'quick', 'quickly', 'doctor', 'able', 'get', 'page', 'asked', 'key', 'questions', 'added', 'steroid', 'help', 'cycle', 'wife', 'prednisone', 'helpful', 'throughout', 'entire', 'process', 'wife', 'left', 'comfort', 'hope', 'wife', 'battling', 'autoimmune', 'disease', 'either', 'chrons', 'henoch', 'schonlein', 'puzzling', 'together', 'hoping', 'henoch', 'schonlein', 'know', 'soon', 'wife', 'biopsies', 'pending', 'usc', 'followup', 'doctor', 'highly', 'recommended', 'trying', 'get', 'appointment', 'rheumatologist', 'several', 'weeks', 'initially', 'called', 'middle', 'day', 'got', 'really', 'rude', 'woman', 'wanted', 'personally', 'collect', 'files', 'even', 'though', 'would', 'signed', 'paperwork', 'could', 'released', 'upon', 'request', 'would', 'even', 'put', 'appointment', 'book', 'files', 'faxed', 'called', 'back', 'minutes', 'later', 'got', 'put', 'hold', 'someone', 'checks', 'file', 'hold', 'long', 'hold', 'system', 'hangs', 'call', 'back', 'immediately', 'get', 'voicemail', 'mysteriously', 'closed', 'middle', 'stated', 'business', 'hours', 'patient', 'sitting', 'hold', 'supposedly', 'something', 'patient', 'wonder', 'lines', 'busy', 'call', 'times', 'next', 'hour', 'nothing', 'called', 'business', 'hours', 'next', 'day', 'someone', 'picked', 'put', 'hold', 'waited', 'several', 'minutes', 'phone', 'hold', 'system', 'hung', 'would', 'hold', 'long', 'called', 'back', 'middle', 'stated', 'business', 'hours', 'mysteriously', 'closed', 'tried', 'call', 'several', 'times', 'next', 'hour', 'nothing', 'happened', 'several', 'times', 'course', 'several', 'days', 'leaving', 'voicemails', 'contact', 'info', 'whenever', 'got', 'voicemail', 'box', 'calls', 'back', 'voicemails', 'nothing', 'finally', 'got', 'someone', 'line', 'day', 'willing', 'actually', 'get', 'appointment', 'asked', 'politely', 'going', 'received', 'contact', 'whatsoever', 'office', 'received', 'shirty', 'comment', 'calling', 'leaving', 'voicemail', 'ages', 'ago', 'looking', 'directly', 'call', 'logs', 'madam', 'nothing', 'guys', 'ask', 'number', 'calling', 'would', 'continued', 'leaving', 'messages', 'since', 'date', 'would', 'supposedly', 'called', 'instead', 'calling', 'number', 'kept', 'leaving', 'voicemails', 'supposedly', 'called', 'number', 'left', 'healthcare', 'paperwork', 'faxed', 'number', 'point', 'primary', 'contact', 'number', 'put', 'paperwork', 'last', 'months', 'contact', 'number', 'kept', 'leaving', 'voicemails', 'literally', 'contact', 'info', 'phone', 'number', 'way', 'would', 'old', 'one', 'going', 'insurance', 'info', 'bypassing', 'current', 'information', 'get', 'old', 'stuff', 'madam', 'leave', 'voicemail', 'old', 'number', 'number', 'active', 'since', 'beginning', 'pandemic', 'pretty', 'sure', 'voicemail', 'even', 'work', 'anymore', 'distant', 'relative', 'tried', 'calling', 'days', 'center', 'supposedly', 'called', 'even', 'allocated', 'another', 'person', 'yet', 'completely', 'service', 'ability', 'leave', 'voicemails', 'even', 'chance', 'see', 'doctor', 'yet', 'place', 'already', 'pretty', 'sus', 'genuinely', 'hoping', 'actually', 'seeing', 'doctor', 'change', 'mind', 'place', 'update', 'review', 'afterward', 'cece', 'office', 'manager', 'unprofessional', 'person', 'switching', 'offices', 'save', 'stress', 'somewhere', 'else', 'accept', 'explanation', 'given', 'circumstances', 'encountered', 'change', 'past', 'impressions', 'leave', 'room', 'new', 'ones', 'kokhab', 'longer', 'running', 'urgent', 'care', 'new', 'office', 'new', 'personnel', 'going', 'back', 'follow', 'care', 'cup', 'times', 'never', 'seem', 'self', 'always', 'told', 'busy', 'seem', 'nurse', 'practitioner', 'knowledge', 'see', 'patients', 'mistreated', 'condition', 'prescribed', 'medication', 'lots', 'side', 'effects', 'test', 'stay', 'away', 'horrible', 'office', 'try', 'get', 'seem', 'doctor', 'time', 'patients', 'made', 'feel', 'like', 'like', 'visit', 'unimportant', 'sarcastic', 'answered', 'questions', 'regarding', 'health', 'seen', 'mary', 'today', 'everyone', 'office', 'professional', 'kind', 'even', 'personable', 'yes', 'appointments', 'scheduled', 'bit', 'actually', 'got', 'little', 'sooner', 'due', 'cancellation', 'frankly', 'worth', 'wait', 'would', 'rather', 'hard', 'time', 'getting', 'appointment', 'get', 'treatment', 'need', 'deserve', 'get', 'sooner', 'appointment', 'someone', 'rushes', 'mary', 'took', 'time', 'provided', 'thorough', 'exam', 'went', 'testing', 'already', 'done', 'primary', 'ent', 'ordered', 'testing', 'doctors', 'past', '...', 'know', 'doctors', 'ones', 'give', 'medicine', 'try', 'look', 'forward', 'working', 'feeling', 'lot', 'better', 'years', 'suffering', 'bad', 'migraines', 'overall', 'aches', 'pain', 'simple', 'touch', 'body', 'would', 'trigger', 'agonizing', 'pain', 'started', 'sharing', 'problems', 'family', 'members', 'dealing', 'similar', 'issues', 'suggested', 'see', 'rheumatologist', 'thank', 'goodness', 'took', 'advice', 'found', 'first', 'time', 'met', 'immediately', 'sent', 'labwork', 'scheduled', 'follow', 'exam', 'review', 'lab', 'results', 'thorough', 'office', 'examination', 'able', 'diagnose', 'put', 'course', 'treatment', 'done', 'wonders', 'headaches', 'also', 'helped', 'make', 'pain', 'tolerable', 'knowledgeable', 'caring', 'really', 'takes', 'time', 'listen', 'never', 'feel', 'rushed', 'another', 'thing', 'really', 'appreciate', 'knows', 'feel', 'taking', 'medication', 'try', 'push', 'taking', 'anything', 'comfortable', 'problem', 'explaining', 'recommended', 'medications', 'side', 'effects', 'fact', 'even', 'writes', 'medications', 'leave', 'research', 'ponder', 'decision', 'next', 'visit', 'find', 'similar', 'situation', 'like', 'mine', 'would', 'highly', 'recommend', 'absolutely', 'wonderful', 'needed', 'shots', 'b12', 'toradol', 'completely', 'exhausted', 'extreme', 'pain', 'wanted', 'get', 'simply', 'get', 'shots', 'told', 'availability', 'april', 'well', 'pain', 'exhaustion', 'comes', 'warning', 'going', 'look', 'another', 'rheumy', 'accommodate', 'ridiculous', 'going', 'nurse', 'practitioner', 'mary', 'years', 'first', 'time', 'came', 'mary', 'incredibly', 'kind', 'caring', 'helpful', 'well', 'informed', 'treat', 'patients', 'grateful', 'rheumatologist', 'trust', 'completely', 'continue', 'trust', 'treats', 'staff', 'also', 'friendly', 'helpful', 'whenever', 'problem', 'appointments', 'prescriptions', 'phone', 'person', 'feel', 'lucky', 'group', 'staff', 'kokhab', 'excellent', 'takes', 'time', 'talk', 'youhe', 'explains', 'things', 'react', 'highly', 'recommend', 'great', 'doctor', 'staff', 'patient', 'almost', 'years', 'also', 'see', 'mary', 'physician', 'assistant', 'caring', 'doctor', 'ever', 'takes', 'time', 'never', 'feel', 'rushed', 'mary', 'kokhab', 'kind', 'caring', 'knowledgeable', 'doctors', 'highly', 'recommend', 'seen', 'mary', 'year', 'absolutely', 'adore', 'takes', 'time', 'speak', 'without', 'rushing', 'door', 'makes', 'personal', 'rather', 'sterile', 'environment', 'seen', 'months', 'due', 'insurance', 'changing', 'went', 'back', 'immediately', 'asked', 'son', 'remembered', 'mention', 'gets', 'job', 'done', 'whatever', 'takes', 'make', 'better', 'went', 'barely', 'able', 'move', 'psoriatic', 'arthritis', 'help', 'dermatologist', 'failed', 'able', 'get', 'medication', 'approved', 'worked', 'went', 'pain', 'scale', 'zero', 'allowed', 'everything', 'mommy', 'needs', 'year', 'old', 'think', 'enough', 'wen', 'bleak', 'outlook', 'self', 'imposed', 'could', 'barely', 'move', 'hurt', 'roll', 'bed', 'could', 'get', 'bed', 'without', 'help', 'could', 'even', 'change', 'sons', 'diaper', 'without', 'pain', 'think', 'hope', 'mary', 'truly', 'thankful', 'new', 'quality', 'life', 'mary', 'great', 'thing', 'say', 'place', 'sometimes', 'difficult', 'reach', 'somebody', 'usually', 'get', 'try', 'schedule', 'appointment', 'keep', 'calling', 'back', 'calls', 'returned', 'timely', 'manner', 'mary', 'fault', 'want', 'thank', 'kokhab', 'seeing', 'treating', 'several', 'weeks', 'ago', 'pain', 'unbearable', 'know', 'difficult', 'patient', 'due', 'work', 'schedule', 'getting', 'necessary', 'bloodwork', 'done', 'bloodwork', 'received', 'staff', 'contacted', 'called', 'necessary', 'prescription', 'follow', 'appointment', 'explained', 'needed', 'condition', 'finally', 'got', 'answered', 'concerns', 'gave', 'recommendations', 'plan', 'implementing', 'soon', 'possible', 'feeling', 'better', 'needed', 'deal', 'second', 'week', 'plant', 'based', 'eating', 'since', 'seeing', 'kokhab', 'feeling', 'much', 'better', 'still', 'believe', 'difference', 'made', 'day', 'day', 'activities', 'amazing', 'knowledgeable', 'body', 'wracked', 'pain', 'beyond', 'exhausted', 'miserable', 'glad', 'primary', 'physician', 'zuniga', 'referred', 'kokhab', 'feeling', 'positive', 'outlook', 'managing', 'pain', 'depression', 'thank', 'kokhab', 'gone', 'office', 'many', 'times', 'wait', 'hours', 'say', 'although', 'positive', 'labs', 'condition', 'think', 'pain', 'addition', 'demeanor', 'creepy', 'uncomfortable', 'room', 'every', 'time', 'would', 'find', 'another', 'place', 'come', 'office', 'give', 'shot', 'may', 'cover', 'insurance', 'later', 'found', 'cost', 'copay', 'shots', 'home', 'bill', 'covered', 'insurance', 'tell', 'upfront', 'shots', 'samples', 'provided', 'pharmaceutical', 'firms', 'doctors', 'charged', 'samples', 'first', 'time', 'patient', 'saw', 'kokhab', 'today', 'despite', 'minutes', 'late', 'seen', 'promptly', 'evaluated', 'thoroughly', 'pulled', 'medical', 'records', 'quickly', 'doctor', 'professional', 'helpful', 'leaving', 'noticed', 'one', 'asked', 'schedule', 'follow', 'visit', 'biggie', 'got', 'call', 'make', 'follow', 'star', 'service', 'marjan', 'khaleghi', 'best', 'rheumatologist', 'compassionate', 'call', 'get', 'see', 'within', 'hours', 'pain', 'severe', 'totally', 'understands', 'really', 'cares', 'everything', 'right', 'leave', 'office', 'makes', 'sure', 'help', 'pain', 'never', 'doctor', 'get', 'fast', 'even', 'skip', 'lunch', 'help', 'recommend', 'highly', 'suffer', 'arthritis', 'kokhab', 'office', 'great', 'job', 'treating', 'fibromyalgia', 'whole', 'office', 'polite', 'caring', 'explained', 'condition', 'great', 'detail', 'took', 'concerns', 'living', 'medication', 'seriously', 'appreciate', 'kokhab', 'working', 'devise', 'live', 'able', 'treatment', 'plan', 'highly', 'recommend', 'appointment', 'kokhab', 'today', 'listened', 'made', 'recommendations', 'take', 'consideration', 'well', 'first', 'time', 'going', 'urgent', 'care', 'going', 'emergency', 'room', '...', 'extremely', 'satisfied', '...', 'seen', 'timely', 'matter', 'janitors', 'constantly', 'wiping', 'chairs', 'sanitizing', 'also', 'walked', 'around', 'broom', 'sweeping', 'front', 'desk', 'kind', 'man', 'worked', 'front', 'desk', 'really', 'caught', 'eye', 'though', '...', 'late', 'closing', 'last', 'person', 'seen', 'however', 'girl', 'walked', 'hand', 'bleeding', 'told', 'closed', 'first', 'hold', 'walked', 'back', 'told', 'came', 'back', 'said', 'feel', 'right', 'turning', 'away', '...', 'like', 'see', '...', 'well', 'stars', 'met', 'mary', 'nurse', 'practitioner', 'immediately', 'felt', 'ease', 'calm', 'approachable', 'took', 'time', 'proper', 'assessment', 'get', 'detailed', 'history', 'explain', 'labs', 'running', 'thoroughly', 'follow', 'appointment', 'explained', 'results', 'thoroughly', 'made', 'sure', 'questions', 'left', 'tell', 'knows', 'specialty', 'well', 'passionate', 'wonderful', 'bedside', 'manner', 'say', 'enough', 'amazing', 'things', 'kokhab', 'staff', 'seen', 'many', 'doctors', 'one', 'able', 'help', 'starting', 'loose', 'hope', 'would', 'get', 'better', 'kokhab', 'amazing', 'saw', 'ran', 'proper', 'blood', 'tests', 'got', 'results', 'literally', 'day', 'went', 'action', 'explained', 'options', 'mean', 'options', 'order', 'make', 'sure', 'felt', 'comfortable', 'decision', 'staff', 'friendly', 'calls', 'back', 'say', 'going', 'many', 'offices', 'get', 'busy', 'forget', 'office', 'flair', 'ups', 'doctor', 'waited', 'make', 'sure', 'anything', 'worst', 'flair', 'get', 'flair', 'ups', 'know', 'painful', 'husband', 'thankful', 'found', 'kokhab', 'would', 'recommend', 'office', 'everyone', 'anyone', 'needs', 'type', 'specalist', 'simply', 'best', 'complicated', 'problem', 'knows', 'find', 'right', 'solutions', 'great', 'clinician', 'really', 'goes', 'way', 'help', 'everyone', 'deeper', 'level', 'food', 'back', 'office', 'give', 'patients', 'treats', 'like', 'family', 'thank', 'went', 'check', 'morris', 'kokhab', 'feel', 'right', 'second', 'third', 'appointment', 'realized', 'professional', 'caring', 'kokhab', 'treats', 'patients', 'best', 'rheumatologist', 'opinion', 'ever', 'treated', 'retired', 'union', 'ironworker', 'time', 'suffering', 'past', 'injuries', 'attacking', 'body', 'painful', 'difficult', 'forms', 'arthritis', 'several', 'treatments', 'kokhab', 'first', 'time', 'many', 'many', 'years', 'felt', 'change', 'condition', 'still', 'long', 'journey', 'ahead', 'thanks', 'kokhab', 'genius', 'actually', 'hope', 'thankyou', 'kokhab', 'professionalism', 'great', 'knowledge', 'first', 'time', 'years', 'see', 'light', 'first', 'time', 'ever', 'seeing', 'rheumatologist', 'even', 'order', 'blood', 'work', 'rays', 'sent', 'home', 'something', 'pain', 'got', 'home', 'read', 'take', 'asthma', 'told', 'told', 'take', 'anyway', 'see', 'pulmonologist', 'terrible', 'doctor', 'kokhab', 'awesome', 'doctor', 'rush', 'appointments', 'takes', 'time', 'answer', 'questions', 'overall', 'nice', 'warm', 'person', 'could', 'help', 'resolve', 'issue', 'may', 'staff', 'great', 'could', 'give', 'stars', 'would', 'found', 'kokhab', 'almost', 'years', 'ago', 'moving', 'chicago', 'lot', 'research', 'reputation', 'excellent', 'disappointed', 'kokhab', 'compassionate', 'knowledgeable', 'respectful', 'develop', 'plan', 'action', 'never', 'make', 'feel', 'rushed', 'door', 'staff', 'nice', 'professional', 'areas', 'upon', 'sign', 'eye', 'specialist', 'urgent', 'care', 'rheumatology', 'appears', 'busy', 'upon', 'entering', 'wait', 'times', 'good', 'great', 'place', 'really', 'good', 'doctor', 'actually', 'looks', 'talk', 'pleased', 'known', 'kokhab', 'since', 'worked', 'ucla', 'moved', 'upland', 'years', 'ago', 'live', 'sherman', 'oaks', 'still', 'drive', 'upland', 'see', 'medical', 'needs', 'amazing', 'doctor', 'nurse', 'practitioner', 'named', 'mary', 'incredible', 'knowledgeable', 'practitioner', 'treated', 'times', 'sweetest', 'lady', 'would', 'ever', 'meet', 'always', 'makes', 'feel', 'ease', 'listens', 'takes', 'time', 'recommended', 'kokhab', 'mary', 'friends', 'also', 'urgent', 'care', 'inside', 'office', 'makes', 'convenient', 'quick', 'inexpensive', 'medical', 'treatments', '+++', 'doctor', 'brilliant', 'kind', 'thorough', 'really', 'felt', 'given', 'full', 'attention', 'accurate', 'diagnosis', 'treated', 'promptly', 'effectively', 'full', 'explanation', 'could', 'understand', 'kudos', 'kokhab', 'thank', 'excellent', 'care', 'husband', 'patient', 'accompanied', 'couple', 'office', 'visits', 'doctor', 'able', 'quickly', 'diagnose', 'husband', 'condition', 'countless', 'visits', 'pcp', 'urgent', 'care', 'beginning', 'treatment', 'doctor', 'called', 'home', 'check', 'husband', 'addition', 'great', 'doctor', 'also', 'wonderful', 'staff', 'staff', 'professional', 'also', 'friendly', 'helpful', 'everyone', 'office', 'truly', 'cares', 'patients', 'saw', 'kokhab', 'twice', 'urgent', 'care', 'upland', 'fibromyalgia', 'years', 'quit', 'norco', 'cold', 'turkey', 'taking', 'pills', 'day', 'years', 'kokhab', 'helped', 'giving', 'non', 'addictive', 'medication', 'similar', 'tylenol', 'told', 'make', 'appt', 'office', 'location', 'treat', 'fibro', 'seems', 'like', 'good', 'took', 'time', 'twice', 'answer', 'questions', 'help', 'way', 'update', 'info', 'see', 'tomorrow', 'office', 'omg', 'urgent', 'care', 'great', 'since', 'could', 'seen', 'regular', 'office', 'good', 'thing', 'especially', 'since', 'trouble', 'breathing', 'due', 'asthma', 'looked', 'urgent', 'care', 'close', 'house', 'read', 'reviews', 'location', 'good', 'went', 'place', 'nice', 'pretty', 'clean', 'like', 'ones', 'look', 'like', 'workmans', 'comp', 'place', 'think', 'almost', 'hour', 'including', 'filling', 'paperwork', 'treatment', 'amanda', 'nurse', 'helped', 'nice', 'recommend', 'place', 'anyone', 'wants', 'needs', 'help', 'right', 'away', 'thank', 'jparedes']\n",
            "1765\n"
          ],
          "name": "stdout"
        }
      ]
    },
    {
      "cell_type": "code",
      "metadata": {
        "id": "Wqoh0MFgCxoy"
      },
      "source": [
        "rwords_dic = {}\n",
        "for one_word in whole_rwords:\n",
        "  if one_word in rwords_dic:\n",
        "    rwords_dic[one_word] += 1\n",
        "  else:\n",
        "    rwords_dic[one_word] = 1\n"
      ],
      "execution_count": null,
      "outputs": []
    },
    {
      "cell_type": "markdown",
      "metadata": {
        "id": "vrEPxOHPkjwj"
      },
      "source": [
        "## Top 10 frequent tokens"
      ]
    },
    {
      "cell_type": "code",
      "metadata": {
        "colab": {
          "base_uri": "https://localhost:8080/"
        },
        "id": "xesum88OGqIX",
        "outputId": "dc3e3dc5-3063-4848-aa98-b6731da9745e"
      },
      "source": [
        "sorted_word = sorted(rwords_dic.items() , key=lambda item: item[1] , reverse=True)\n",
        "sorted_word"
      ],
      "execution_count": null,
      "outputs": [
        {
          "output_type": "execute_result",
          "data": {
            "text/plain": [
              "[('kokhab', 27),\n",
              " ('office', 24),\n",
              " ('doctor', 20),\n",
              " ('time', 20),\n",
              " ('get', 19),\n",
              " ('would', 17),\n",
              " ('pain', 14),\n",
              " ('mary', 13),\n",
              " ('back', 12),\n",
              " ('see', 11),\n",
              " ('seen', 11),\n",
              " ('care', 11),\n",
              " ('staff', 11),\n",
              " ('great', 11),\n",
              " ('feel', 10),\n",
              " ('years', 10),\n",
              " ('help', 10),\n",
              " ('appointment', 10),\n",
              " ('even', 10),\n",
              " ('recommend', 9),\n",
              " ('medication', 9),\n",
              " ('also', 9),\n",
              " ('could', 9),\n",
              " ('called', 9),\n",
              " ('got', 9),\n",
              " ('number', 9),\n",
              " ('able', 8),\n",
              " ('really', 8),\n",
              " ('hold', 8),\n",
              " ('going', 8),\n",
              " ('place', 8),\n",
              " ('urgent', 8),\n",
              " ('like', 8),\n",
              " ('first', 8),\n",
              " ('rheumatologist', 7),\n",
              " ('right', 7),\n",
              " ('thank', 7),\n",
              " ('leaving', 7),\n",
              " ('patient', 7),\n",
              " ('knowledgeable', 7),\n",
              " ('professional', 7),\n",
              " ('caring', 7),\n",
              " ('wife', 7),\n",
              " ('call', 7),\n",
              " ('several', 7),\n",
              " ('day', 7),\n",
              " ('times', 7),\n",
              " ('told', 7),\n",
              " ('went', 7),\n",
              " ('make', 7),\n",
              " ('takes', 7),\n",
              " ('good', 6),\n",
              " ('work', 6),\n",
              " ('highly', 6),\n",
              " ('since', 6),\n",
              " ('follow', 6),\n",
              " ('patients', 6),\n",
              " ('condition', 6),\n",
              " ('...', 6),\n",
              " ('immediately', 5),\n",
              " ('know', 5),\n",
              " ('questions', 5),\n",
              " ('helpful', 5),\n",
              " ('put', 5),\n",
              " ('voicemail', 5),\n",
              " ('hours', 5),\n",
              " ('voicemails', 5),\n",
              " ('contact', 5),\n",
              " ('actually', 5),\n",
              " ('calling', 5),\n",
              " ('leave', 5),\n",
              " ('sure', 5),\n",
              " ('person', 5),\n",
              " ('never', 5),\n",
              " ('nurse', 5),\n",
              " ('practitioner', 5),\n",
              " ('kind', 5),\n",
              " ('treatment', 5),\n",
              " ('took', 5),\n",
              " ('doctors', 5),\n",
              " ('better', 5),\n",
              " ('well', 5),\n",
              " ('many', 5),\n",
              " ('plan', 4),\n",
              " ('still', 4),\n",
              " ('find', 4),\n",
              " ('pretty', 4),\n",
              " ('received', 4),\n",
              " ('lab', 4),\n",
              " ('today', 4),\n",
              " ('recommended', 4),\n",
              " ('business', 4),\n",
              " ('asked', 4),\n",
              " ('hope', 4),\n",
              " ('paperwork', 4),\n",
              " ('someone', 4),\n",
              " ('supposedly', 4),\n",
              " ('busy', 4),\n",
              " ('next', 4),\n",
              " ('nothing', 4),\n",
              " ('info', 4),\n",
              " ('ago', 4),\n",
              " ('old', 4),\n",
              " ('insurance', 4),\n",
              " ('another', 4),\n",
              " ('seeing', 4),\n",
              " ('change', 4),\n",
              " ('new', 4),\n",
              " ('try', 4),\n",
              " ('made', 4),\n",
              " ('everyone', 4),\n",
              " ('due', 4),\n",
              " ('done', 4),\n",
              " ('give', 4),\n",
              " ('feeling', 4),\n",
              " ('found', 4),\n",
              " ('shots', 4),\n",
              " ('ever', 4),\n",
              " ('makes', 4),\n",
              " ('needs', 4),\n",
              " ('think', 4),\n",
              " ('say', 4),\n",
              " ('explained', 4),\n",
              " ('amazing', 4),\n",
              " ('home', 4),\n",
              " ('felt', 4),\n",
              " ('husband', 4),\n",
              " ('nice', 4),\n",
              " ('schulman', 3),\n",
              " ('concerns', 3),\n",
              " ('diagnose', 3),\n",
              " ('working', 3),\n",
              " ('already', 3),\n",
              " ('always', 3),\n",
              " ('overall', 3),\n",
              " ('service', 3),\n",
              " ('days', 3),\n",
              " ('later', 3),\n",
              " ('rather', 3),\n",
              " ('quickly', 3),\n",
              " ('left', 3),\n",
              " ('middle', 3),\n",
              " ('upon', 3),\n",
              " ('minutes', 3),\n",
              " ('long', 3),\n",
              " ('closed', 3),\n",
              " ('hour', 3),\n",
              " ('phone', 3),\n",
              " ('calls', 3),\n",
              " ('primary', 3),\n",
              " ('way', 3),\n",
              " ('one', 3),\n",
              " ('completely', 3),\n",
              " ('past', 3),\n",
              " ('room', 3),\n",
              " ('ones', 3),\n",
              " ('seem', 3),\n",
              " ('away', 3),\n",
              " ('visit', 3),\n",
              " ('appointments', 3),\n",
              " ('wait', 3),\n",
              " ('thorough', 3),\n",
              " ('look', 3),\n",
              " ('body', 3),\n",
              " ('similar', 3),\n",
              " ('results', 3),\n",
              " ('helped', 3),\n",
              " ('rushed', 3),\n",
              " ('thing', 3),\n",
              " ('knows', 3),\n",
              " ('taking', 3),\n",
              " ('problem', 3),\n",
              " ('wonderful', 3),\n",
              " ('needed', 3),\n",
              " ('treats', 3),\n",
              " ('friendly', 3),\n",
              " ('excellent', 3),\n",
              " ('almost', 3),\n",
              " ('without', 3),\n",
              " ('arthritis', 3),\n",
              " ('worked', 3),\n",
              " ('difficult', 3),\n",
              " ('schedule', 3),\n",
              " ('saw', 3),\n",
              " ('thoroughly', 3),\n",
              " ('medical', 3),\n",
              " ('best', 3),\n",
              " ('take', 3),\n",
              " ('walked', 3),\n",
              " ('flair', 3),\n",
              " ('treated', 3),\n",
              " ('upland', 3),\n",
              " ('come', 2),\n",
              " ('pcp', 2),\n",
              " ('listened', 2),\n",
              " ('noticed', 2),\n",
              " ('instead', 2),\n",
              " ('deal', 2),\n",
              " ('couple', 2),\n",
              " ('pleased', 2),\n",
              " ('attention', 2),\n",
              " ('horrible', 2),\n",
              " ('rude', 2),\n",
              " ('cancel', 2),\n",
              " ('vacation', 2),\n",
              " ('prescription', 2),\n",
              " ('approved', 2),\n",
              " ('manager', 2),\n",
              " ('whatsoever', 2),\n",
              " ('awesome', 2),\n",
              " ('within', 2),\n",
              " ('quick', 2),\n",
              " ('henoch', 2),\n",
              " ('schonlein', 2),\n",
              " ('hoping', 2),\n",
              " ('soon', 2),\n",
              " ('weeks', 2),\n",
              " ('wanted', 2),\n",
              " ('files', 2),\n",
              " ('though', 2),\n",
              " ('faxed', 2),\n",
              " ('system', 2),\n",
              " ('mysteriously', 2),\n",
              " ('stated', 2),\n",
              " ('something', 2),\n",
              " ('waited', 2),\n",
              " ('tried', 2),\n",
              " ('course', 2),\n",
              " ('whenever', 2),\n",
              " ('finally', 2),\n",
              " ('madam', 2),\n",
              " ('kept', 2),\n",
              " ('last', 2),\n",
              " ('months', 2),\n",
              " ('literally', 2),\n",
              " ('beginning', 2),\n",
              " ('yet', 2),\n",
              " ('update', 2),\n",
              " ('review', 2),\n",
              " ('offices', 2),\n",
              " ('explanation', 2),\n",
              " ('given', 2),\n",
              " ('running', 2),\n",
              " ('self', 2),\n",
              " ('knowledge', 2),\n",
              " ('side', 2),\n",
              " ('effects', 2),\n",
              " ('answered', 2),\n",
              " ('scheduled', 2),\n",
              " ('sooner', 2),\n",
              " ('getting', 2),\n",
              " ('provided', 2),\n",
              " ('exam', 2),\n",
              " ('testing', 2),\n",
              " ('lot', 2),\n",
              " ('suffering', 2),\n",
              " ('family', 2),\n",
              " ('met', 2),\n",
              " ('sent', 2),\n",
              " ('appreciate', 2),\n",
              " ('anything', 2),\n",
              " ('comfortable', 2),\n",
              " ('medications', 2),\n",
              " ('research', 2),\n",
              " ('decision', 2),\n",
              " ('absolutely', 2),\n",
              " ('exhausted', 2),\n",
              " ('simply', 2),\n",
              " ('came', 2),\n",
              " ('treat', 2),\n",
              " ('trust', 2),\n",
              " ('talk', 2),\n",
              " ('things', 2),\n",
              " ('physician', 2),\n",
              " ('year', 2),\n",
              " ('door', 2),\n",
              " ('job', 2),\n",
              " ('barely', 2),\n",
              " ('move', 2),\n",
              " ('everything', 2),\n",
              " ('enough', 2),\n",
              " ('outlook', 2),\n",
              " ('bed', 2),\n",
              " ('truly', 2),\n",
              " ('thankful', 2),\n",
              " ('timely', 2),\n",
              " ('manner', 2),\n",
              " ('treating', 2),\n",
              " ('necessary', 2),\n",
              " ('bloodwork', 2),\n",
              " ('recommendations', 2),\n",
              " ('second', 2),\n",
              " ('positive', 2),\n",
              " ('labs', 2),\n",
              " ('addition', 2),\n",
              " ('may', 2),\n",
              " ('tell', 2),\n",
              " ('samples', 2),\n",
              " ('late', 2),\n",
              " ('promptly', 2),\n",
              " ('compassionate', 2),\n",
              " ('cares', 2),\n",
              " ('fibromyalgia', 2),\n",
              " ('live', 2),\n",
              " ('front', 2),\n",
              " ('desk', 2),\n",
              " ('eye', 2),\n",
              " ('stars', 2),\n",
              " ('ease', 2),\n",
              " ('proper', 2),\n",
              " ('blood', 2),\n",
              " ('action', 2),\n",
              " ('options', 2),\n",
              " ('order', 2),\n",
              " ('ups', 2),\n",
              " ('painful', 2),\n",
              " ('anyone', 2),\n",
              " ('check', 2),\n",
              " ('treatments', 2),\n",
              " ('read', 2),\n",
              " ('asthma', 2),\n",
              " ('answer', 2),\n",
              " ('full', 2),\n",
              " ('visits', 2),\n",
              " ('twice', 2),\n",
              " ('location', 2),\n",
              " ('covid', 1),\n",
              " ('restrictions', 1),\n",
              " ('lifting', 1),\n",
              " ('decided', 1),\n",
              " ('stacey', 1),\n",
              " ('godsend', 1),\n",
              " ('symptoms', 1),\n",
              " ('accurately', 1),\n",
              " ('start', 1),\n",
              " ('dosage', 1),\n",
              " ('combination', 1),\n",
              " ('hands', 1),\n",
              " ('significant', 1),\n",
              " ('improvements', 1),\n",
              " ('clear', 1),\n",
              " ('kohkab', 1),\n",
              " ('coming', 1),\n",
              " ('wish', 1),\n",
              " ('honest', 1),\n",
              " ('practice', 1),\n",
              " ('najafabadi', 1),\n",
              " ('courteous', 1),\n",
              " ('experience', 1),\n",
              " ('tiffany', 1),\n",
              " ('karina', 1),\n",
              " ('inconsiderate', 1),\n",
              " ('disrespectful', 1),\n",
              " ('respond', 1),\n",
              " ('pharmacy', 1),\n",
              " ('available', 1),\n",
              " ('pick', 1),\n",
              " ('asking', 1),\n",
              " ('require', 1),\n",
              " ('speaking', 1),\n",
              " ('agreed', 1),\n",
              " ('required', 1),\n",
              " ('bother', 1),\n",
              " ('provide', 1),\n",
              " ('name', 1),\n",
              " ('unavailable', 1),\n",
              " ('team', 1),\n",
              " ('gloria', 1),\n",
              " ('stevens', 1),\n",
              " ('complex', 1),\n",
              " ('page', 1),\n",
              " ('key', 1),\n",
              " ('added', 1),\n",
              " ('steroid', 1),\n",
              " ('cycle', 1),\n",
              " ('prednisone', 1),\n",
              " ('throughout', 1),\n",
              " ('entire', 1),\n",
              " ('process', 1),\n",
              " ('comfort', 1),\n",
              " ('battling', 1),\n",
              " ('autoimmune', 1),\n",
              " ('disease', 1),\n",
              " ('either', 1),\n",
              " ('chrons', 1),\n",
              " ('puzzling', 1),\n",
              " ('together', 1),\n",
              " ('biopsies', 1),\n",
              " ('pending', 1),\n",
              " ('usc', 1),\n",
              " ('followup', 1),\n",
              " ('trying', 1),\n",
              " ('initially', 1),\n",
              " ('woman', 1),\n",
              " ('personally', 1),\n",
              " ('collect', 1),\n",
              " ('signed', 1),\n",
              " ('released', 1),\n",
              " ('request', 1),\n",
              " ('book', 1),\n",
              " ('checks', 1),\n",
              " ('file', 1),\n",
              " ('hangs', 1),\n",
              " ('sitting', 1),\n",
              " ('wonder', 1),\n",
              " ('lines', 1),\n",
              " ('picked', 1),\n",
              " ('hung', 1),\n",
              " ('happened', 1),\n",
              " ('box', 1),\n",
              " ('line', 1),\n",
              " ('willing', 1),\n",
              " ('politely', 1),\n",
              " ('shirty', 1),\n",
              " ('comment', 1),\n",
              " ('ages', 1),\n",
              " ('looking', 1),\n",
              " ('directly', 1),\n",
              " ('logs', 1),\n",
              " ('guys', 1),\n",
              " ('ask', 1),\n",
              " ('continued', 1),\n",
              " ('messages', 1),\n",
              " ('date', 1),\n",
              " ('healthcare', 1),\n",
              " ('point', 1),\n",
              " ('bypassing', 1),\n",
              " ('current', 1),\n",
              " ('information', 1),\n",
              " ('stuff', 1),\n",
              " ('active', 1),\n",
              " ('pandemic', 1),\n",
              " ('anymore', 1),\n",
              " ('distant', 1),\n",
              " ('relative', 1),\n",
              " ('center', 1),\n",
              " ('allocated', 1),\n",
              " ('ability', 1),\n",
              " ('chance', 1),\n",
              " ('sus', 1),\n",
              " ('genuinely', 1),\n",
              " ('mind', 1),\n",
              " ('afterward', 1),\n",
              " ('cece', 1),\n",
              " ('unprofessional', 1),\n",
              " ('switching', 1),\n",
              " ('save', 1),\n",
              " ('stress', 1),\n",
              " ('somewhere', 1),\n",
              " ('else', 1),\n",
              " ('accept', 1),\n",
              " ('circumstances', 1),\n",
              " ('encountered', 1),\n",
              " ('impressions', 1),\n",
              " ('longer', 1),\n",
              " ('personnel', 1),\n",
              " ('cup', 1),\n",
              " ('mistreated', 1),\n",
              " ('prescribed', 1),\n",
              " ('lots', 1),\n",
              " ('test', 1),\n",
              " ('stay', 1),\n",
              " ('unimportant', 1),\n",
              " ('sarcastic', 1),\n",
              " ('regarding', 1),\n",
              " ('health', 1),\n",
              " ('personable', 1),\n",
              " ('yes', 1),\n",
              " ('bit', 1),\n",
              " ('little', 1),\n",
              " ('cancellation', 1),\n",
              " ('frankly', 1),\n",
              " ('worth', 1),\n",
              " ('hard', 1),\n",
              " ('need', 1),\n",
              " ('deserve', 1),\n",
              " ('rushes', 1),\n",
              " ('ent', 1),\n",
              " ('ordered', 1),\n",
              " ('medicine', 1),\n",
              " ('forward', 1),\n",
              " ('bad', 1),\n",
              " ('migraines', 1),\n",
              " ('aches', 1),\n",
              " ('simple', 1),\n",
              " ('touch', 1),\n",
              " ('trigger', 1),\n",
              " ('agonizing', 1),\n",
              " ('started', 1),\n",
              " ('sharing', 1),\n",
              " ('problems', 1),\n",
              " ('members', 1),\n",
              " ('dealing', 1),\n",
              " ('issues', 1),\n",
              " ('suggested', 1),\n",
              " ('goodness', 1),\n",
              " ('advice', 1),\n",
              " ('labwork', 1),\n",
              " ('examination', 1),\n",
              " ('wonders', 1),\n",
              " ('headaches', 1),\n",
              " ('tolerable', 1),\n",
              " ('listen', 1),\n",
              " ('push', 1),\n",
              " ('explaining', 1),\n",
              " ('fact', 1),\n",
              " ('writes', 1),\n",
              " ('ponder', 1),\n",
              " ('situation', 1),\n",
              " ('mine', 1),\n",
              " ('b12', 1),\n",
              " ('toradol', 1),\n",
              " ('extreme', 1),\n",
              " ('availability', 1),\n",
              " ('april', 1),\n",
              " ('exhaustion', 1),\n",
              " ('comes', 1),\n",
              " ('warning', 1),\n",
              " ('rheumy', 1),\n",
              " ('accommodate', 1),\n",
              " ('ridiculous', 1),\n",
              " ('incredibly', 1),\n",
              " ('informed', 1),\n",
              " ('grateful', 1),\n",
              " ('continue', 1),\n",
              " ('prescriptions', 1),\n",
              " ('lucky', 1),\n",
              " ('group', 1),\n",
              " ('youhe', 1),\n",
              " ('explains', 1),\n",
              " ('react', 1),\n",
              " ('assistant', 1),\n",
              " ('adore', 1),\n",
              " ('speak', 1),\n",
              " ('rushing', 1),\n",
              " ('personal', 1),\n",
              " ('sterile', 1),\n",
              " ('environment', 1),\n",
              " ('changing', 1),\n",
              " ('son', 1),\n",
              " ('remembered', 1),\n",
              " ('mention', 1),\n",
              " ('gets', 1),\n",
              " ('whatever', 1),\n",
              " ('psoriatic', 1),\n",
              " ('dermatologist', 1),\n",
              " ('failed', 1),\n",
              " ('scale', 1),\n",
              " ('zero', 1),\n",
              " ('allowed', 1),\n",
              " ('mommy', 1),\n",
              " ('wen', 1),\n",
              " ('bleak', 1),\n",
              " ('imposed', 1),\n",
              " ('hurt', 1),\n",
              " ('roll', 1),\n",
              " ('sons', 1),\n",
              " ('diaper', 1),\n",
              " ('quality', 1),\n",
              " ('life', 1),\n",
              " ('sometimes', 1),\n",
              " ('reach', 1),\n",
              " ('somebody', 1),\n",
              " ('usually', 1),\n",
              " ('keep', 1),\n",
              " ('returned', 1),\n",
              " ('fault', 1),\n",
              " ('want', 1),\n",
              " ('unbearable', 1),\n",
              " ('contacted', 1),\n",
              " ('gave', 1),\n",
              " ('implementing', 1),\n",
              " ('possible', 1),\n",
              " ('week', 1),\n",
              " ('plant', 1),\n",
              " ('based', 1),\n",
              " ('eating', 1),\n",
              " ('much', 1),\n",
              " ('believe', 1),\n",
              " ('difference', 1),\n",
              " ('activities', 1),\n",
              " ('wracked', 1),\n",
              " ('beyond', 1),\n",
              " ('miserable', 1),\n",
              " ('glad', 1),\n",
              " ('zuniga', 1),\n",
              " ('referred', 1),\n",
              " ('managing', 1),\n",
              " ('depression', 1),\n",
              " ('gone', 1),\n",
              " ('although', 1),\n",
              " ('demeanor', 1),\n",
              " ('creepy', 1),\n",
              " ('uncomfortable', 1),\n",
              " ('every', 1),\n",
              " ('shot', 1),\n",
              " ('cover', 1),\n",
              " ('cost', 1),\n",
              " ('copay', 1),\n",
              " ('bill', 1),\n",
              " ('covered', 1),\n",
              " ('upfront', 1),\n",
              " ('pharmaceutical', 1),\n",
              " ('firms', 1),\n",
              " ('charged', 1),\n",
              " ('despite', 1),\n",
              " ('evaluated', 1),\n",
              " ('pulled', 1),\n",
              " ('records', 1),\n",
              " ('biggie', 1),\n",
              " ('star', 1),\n",
              " ('marjan', 1),\n",
              " ('khaleghi', 1),\n",
              " ('severe', 1),\n",
              " ('totally', 1),\n",
              " ('understands', 1),\n",
              " ('fast', 1),\n",
              " ('skip', 1),\n",
              " ('lunch', 1),\n",
              " ('suffer', 1),\n",
              " ('whole', 1),\n",
              " ('polite', 1),\n",
              " ('detail', 1),\n",
              " ('living', 1),\n",
              " ('seriously', 1),\n",
              " ('devise', 1),\n",
              " ('consideration', 1),\n",
              " ('emergency', 1),\n",
              " ('extremely', 1),\n",
              " ('satisfied', 1),\n",
              " ('matter', 1),\n",
              " ('janitors', 1),\n",
              " ('constantly', 1),\n",
              " ('wiping', 1),\n",
              " ('chairs', 1),\n",
              " ('sanitizing', 1),\n",
              " ('around', 1),\n",
              " ('broom', 1),\n",
              " ('sweeping', 1),\n",
              " ('man', 1),\n",
              " ('caught', 1),\n",
              " ('closing', 1),\n",
              " ('however', 1),\n",
              " ('girl', 1),\n",
              " ('hand', 1),\n",
              " ('bleeding', 1),\n",
              " ('said', 1),\n",
              " ('turning', 1),\n",
              " ('calm', 1),\n",
              " ('approachable', 1),\n",
              " ('assessment', 1),\n",
              " ('detailed', 1),\n",
              " ('history', 1),\n",
              " ('explain', 1),\n",
              " ('specialty', 1),\n",
              " ('passionate', 1),\n",
              " ('bedside', 1),\n",
              " ('starting', 1),\n",
              " ('loose', 1),\n",
              " ('ran', 1),\n",
              " ('tests', 1),\n",
              " ('mean', 1),\n",
              " ('forget', 1),\n",
              " ('worst', 1),\n",
              " ('type', 1),\n",
              " ('specalist', 1),\n",
              " ('complicated', 1),\n",
              " ('solutions', 1),\n",
              " ('clinician', 1),\n",
              " ('goes', 1),\n",
              " ('deeper', 1),\n",
              " ('level', 1),\n",
              " ('food', 1),\n",
              " ('morris', 1),\n",
              " ('third', 1),\n",
              " ('realized', 1),\n",
              " ('opinion', 1),\n",
              " ('retired', 1),\n",
              " ('union', 1),\n",
              " ('ironworker', 1),\n",
              " ('injuries', 1),\n",
              " ('attacking', 1),\n",
              " ('forms', 1),\n",
              " ('journey', 1),\n",
              " ('ahead', 1),\n",
              " ('thanks', 1),\n",
              " ('genius', 1),\n",
              " ('thankyou', 1),\n",
              " ('professionalism', 1),\n",
              " ('light', 1),\n",
              " ('rays', 1),\n",
              " ('anyway', 1),\n",
              " ('pulmonologist', 1),\n",
              " ('terrible', 1),\n",
              " ('rush', 1),\n",
              " ('warm', 1),\n",
              " ('resolve', 1),\n",
              " ('issue', 1),\n",
              " ('moving', 1),\n",
              " ('chicago', 1),\n",
              " ('reputation', 1),\n",
              " ('disappointed', 1),\n",
              " ('respectful', 1),\n",
              " ('develop', 1),\n",
              " ('areas', 1),\n",
              " ('sign', 1),\n",
              " ('specialist', 1),\n",
              " ('rheumatology', 1),\n",
              " ('appears', 1),\n",
              " ('entering', 1),\n",
              " ('looks', 1),\n",
              " ('known', 1),\n",
              " ('ucla', 1),\n",
              " ('moved', 1),\n",
              " ('sherman', 1),\n",
              " ('oaks', 1),\n",
              " ('drive', 1),\n",
              " ('named', 1),\n",
              " ('incredible', 1),\n",
              " ('sweetest', 1),\n",
              " ('lady', 1),\n",
              " ('meet', 1),\n",
              " ('listens', 1),\n",
              " ('friends', 1),\n",
              " ('inside', 1),\n",
              " ('convenient', 1),\n",
              " ('inexpensive', 1),\n",
              " ('+++', 1),\n",
              " ('brilliant', 1),\n",
              " ('accurate', 1),\n",
              " ('diagnosis', 1),\n",
              " ('effectively', 1),\n",
              " ('understand', 1),\n",
              " ('kudos', 1),\n",
              " ('accompanied', 1),\n",
              " ('countless', 1),\n",
              " ('quit', 1),\n",
              " ('norco', 1),\n",
              " ('cold', 1),\n",
              " ('turkey', 1),\n",
              " ('pills', 1),\n",
              " ('giving', 1),\n",
              " ('non', 1),\n",
              " ('addictive', 1),\n",
              " ('tylenol', 1),\n",
              " ('appt', 1),\n",
              " ('fibro', 1),\n",
              " ('seems', 1),\n",
              " ('tomorrow', 1),\n",
              " ('omg', 1),\n",
              " ('regular', 1),\n",
              " ('especially', 1),\n",
              " ('trouble', 1),\n",
              " ('breathing', 1),\n",
              " ('looked', 1),\n",
              " ('close', 1),\n",
              " ('house', 1),\n",
              " ('reviews', 1),\n",
              " ('clean', 1),\n",
              " ('workmans', 1),\n",
              " ('comp', 1),\n",
              " ('including', 1),\n",
              " ('filling', 1),\n",
              " ('amanda', 1),\n",
              " ('wants', 1),\n",
              " ('jparedes', 1)]"
            ]
          },
          "metadata": {
            "tags": []
          },
          "execution_count": 20
        }
      ]
    },
    {
      "cell_type": "markdown",
      "metadata": {
        "id": "7RhmU1aSktur"
      },
      "source": [
        "# Question 5"
      ]
    },
    {
      "cell_type": "code",
      "metadata": {
        "colab": {
          "base_uri": "https://localhost:8080/"
        },
        "id": "AQKt4GXMJIvv",
        "outputId": "afa2d60d-cb73-4977-e1c9-5a770d5cafda"
      },
      "source": [
        "# reviews.similar('office')\n",
        "reviews_all = []\n",
        "for re in review_token_list:\n",
        "  reviews_all += re\n",
        "reviews_word = nltk.text.Text(reviews_all)\n",
        "reviews_word.concordance('office')\n"
      ],
      "execution_count": null,
      "outputs": [
        {
          "output_type": "stream",
          "text": [
            "Displaying 23 of 23 matches:\n",
            "                                    office to see a rheumatologist as my PCP r\n",
            "d disrespectful ! do not go to this office . They cancel my wife medication be\n",
            "y could not provide the name of the office manager who was on vacation or unav\n",
            "ays later . Would not recommend the office whatsoever ! Awesome team , very kn\n",
            "ed *no contact whatsoever* from the office . I received a shirty comment about\n",
            "date my review afterward . Cece the office manager is the most unprofessional \n",
            "nning an urgent care and in the new office he has new personnel . I will be go\n",
            "test it out.Stay away this horrible office . And try to get seem with a Doctor\n",
            " , the PA , today . Everyone in the office was professional , kind , & even pe\n",
            "you Dr Kokhab . I have gone to this office many times and wait for hours just \n",
            "r place to go . do not come to this office as they will give you a shot that m\n",
            "then and there before you leave her office . She makes sure to help your pain \n",
            "from arthritis . Dr. Kokhab and his office are doing a great job treating me f\n",
            "ing me for fibromyalgia . His whole office is very polite and caring . They ex\n",
            "at they forget about you , not this office . I have had some flair ups and the\n",
            ". Kokhab and I would recommend this office to everyone and anyone that needs t\n",
            " level . If he has food in the back office he will give it to his patients . H\n",
            "also have an Urgent care inside his office which makes it very convenient for \n",
            "have accompanied him on a couple of office visits . He was the only doctor who\n",
            "ly , and helpful . Everyone at this office truly cares about the patients . I \n",
            " and told me to make an appt at his office location to treat my Fibro . He see\n",
            "nfo after I see him tomorrow at his office . OMG ! This Urgent Care is great !\n",
            "ld not be seen at my regular Dr. 's office , not a good thing especially since\n"
          ],
          "name": "stdout"
        }
      ]
    },
    {
      "cell_type": "code",
      "metadata": {
        "colab": {
          "base_uri": "https://localhost:8080/"
        },
        "id": "BxHl30r8MBdv",
        "outputId": "c0c36fcb-e613-4b11-9484-e3e2bc5aacca"
      },
      "source": [
        "reviews_word.similar('office')"
      ],
      "execution_count": null,
      "outputs": [
        {
          "output_type": "stream",
          "text": [
            "as right dr staff doctor number pandemic chance place circumstances\n",
            "knowledge patients condition time wait janitors genius\n"
          ],
          "name": "stdout"
        }
      ]
    },
    {
      "cell_type": "markdown",
      "metadata": {
        "id": "-IVSlLqIkxd7"
      },
      "source": [
        "# Question 6\n",
        "lexical diversity function"
      ]
    },
    {
      "cell_type": "code",
      "metadata": {
        "id": "ffbgNe1BOxPE"
      },
      "source": [
        "# lexical diversity is the total number of tokens over unique tokens\n",
        "def lexical_diversity(text):\n",
        "    \"\"\"\n",
        "    A measure of the lexical richness of the text\n",
        "    \"\"\"\n",
        "    return len(text)/len(set(text))\n",
        "\n",
        "# percentage of a word in a text\n",
        "def percentage(word_count, total):\n",
        "    \"\"\"\n",
        "    Compute what percentage of the text is taken up by a specific word\n",
        "    \"\"\"\n",
        "    return 100* word_count/total\n"
      ],
      "execution_count": null,
      "outputs": []
    },
    {
      "cell_type": "code",
      "metadata": {
        "id": "GrVrD2TpzELe"
      },
      "source": [
        "raw_length, clearned_length, diversity = [],[],[]\n",
        "for i in range(10):\n",
        "  raw_length.append(len(review_token_list[i]))\n",
        "  diversity.append(lexical_diversity(review_token_list[i]))\n",
        "  \n",
        "  review_one = ' '.join(review_token_list[i])\n",
        "  # make sure token_after_normal output is unique\n",
        "  normal_content = token_after_normal(review_one)\n",
        "  set_content = set(normal_content)\n",
        "  clearned_length.append(len(set_content))\n",
        "  \n",
        "  "
      ],
      "execution_count": null,
      "outputs": []
    },
    {
      "cell_type": "markdown",
      "metadata": {
        "id": "0P3P9dnnk4V6"
      },
      "source": [
        "## tabel features output"
      ]
    },
    {
      "cell_type": "code",
      "metadata": {
        "colab": {
          "base_uri": "https://localhost:8080/"
        },
        "id": "jg6XCtc-zXIe",
        "outputId": "a2172dea-506a-4fff-83b4-a15ba166c9a5"
      },
      "source": [
        "print(raw_length)\n",
        "print(clearned_length)\n",
        "print(diversity)"
      ],
      "execution_count": null,
      "outputs": [
        {
          "output_type": "stream",
          "text": [
            "[93, 32, 49, 151, 131, 624, 24, 56, 77, 20]\n",
            "[38, 12, 18, 41, 51, 149, 11, 22, 29, 10]\n",
            "[1.4307692307692308, 1.0666666666666667, 1.2894736842105263, 1.776470588235294, 1.4719101123595506, 2.6108786610878663, 1.1428571428571428, 1.302325581395349, 1.3275862068965518, 1.1764705882352942]\n"
          ],
          "name": "stdout"
        }
      ]
    },
    {
      "cell_type": "markdown",
      "metadata": {
        "id": "SPiFG7lPk8h7"
      },
      "source": [
        "# Question 7"
      ]
    },
    {
      "cell_type": "code",
      "metadata": {
        "id": "fTdSHKYh42xc"
      },
      "source": [
        "from nltk import FreqDist"
      ],
      "execution_count": null,
      "outputs": []
    },
    {
      "cell_type": "code",
      "metadata": {
        "colab": {
          "base_uri": "https://localhost:8080/"
        },
        "id": "gDcdt5IX_zzL",
        "outputId": "ba2b6b45-2131-4302-93c0-76303e44bc4f"
      },
      "source": [
        "print(len(whole_rwords))\n",
        "# use FreqDis() to find the frequency disctibution for each token\n",
        "fdist_reviews= FreqDist(whole_rwords)\n",
        "# check fdist1, which is a dictionary data type that has key:value pairs\n",
        "# fdist_reviews"
      ],
      "execution_count": null,
      "outputs": [
        {
          "output_type": "stream",
          "text": [
            "1765\n"
          ],
          "name": "stdout"
        }
      ]
    },
    {
      "cell_type": "code",
      "metadata": {
        "colab": {
          "base_uri": "https://localhost:8080/"
        },
        "id": "UN4R0-XlBrig",
        "outputId": "9a0384f2-ccb3-43bc-88fe-4bb90aebcedf"
      },
      "source": [
        "# count the total number of tokens in a corpus, which is the same as len()\n",
        "print(fdist_reviews.N())\n",
        "print(fdist_reviews.freq('office'))"
      ],
      "execution_count": null,
      "outputs": [
        {
          "output_type": "stream",
          "text": [
            "1765\n",
            "0.013597733711048159\n"
          ],
          "name": "stdout"
        }
      ]
    },
    {
      "cell_type": "code",
      "metadata": {
        "colab": {
          "base_uri": "https://localhost:8080/"
        },
        "id": "5c466iiHCCCW",
        "outputId": "66822562-14b7-44fa-ff38-be11d36c6eb3"
      },
      "source": [
        "# create a list of vocabulary that includes all the keys or unique tokens in the text\n",
        "vocabulary_reviews = list(fdist_reviews.keys())\n",
        "print(type(sorted_word))"
      ],
      "execution_count": null,
      "outputs": [
        {
          "output_type": "stream",
          "text": [
            "<class 'list'>\n"
          ],
          "name": "stdout"
        }
      ]
    },
    {
      "cell_type": "markdown",
      "metadata": {
        "id": "k2ys0Ibnk_GT"
      },
      "source": [
        "## Graph output"
      ]
    },
    {
      "cell_type": "code",
      "metadata": {
        "colab": {
          "base_uri": "https://localhost:8080/",
          "height": 332
        },
        "id": "A51MF1J4CacG",
        "outputId": "661b6e24-54a9-4dec-8135-d506df8fb4a5"
      },
      "source": [
        "# draw the frequency distribution plot\n",
        "fdist_reviews.plot(20, cumulative=True)"
      ],
      "execution_count": null,
      "outputs": [
        {
          "output_type": "display_data",
          "data": {
            "image/png": "[encoded data removed]",
            "text/plain": [
              "<Figure size 432x288 with 1 Axes>"
            ]
          },
          "metadata": {
            "tags": [],
            "needs_background": "light"
          }
        }
      ]
    },
    {
      "cell_type": "code",
      "metadata": {
        "id": "-4oC6c9ZC27v"
      },
      "source": [
        ""
      ],
      "execution_count": null,
      "outputs": []
    }
  ]
}