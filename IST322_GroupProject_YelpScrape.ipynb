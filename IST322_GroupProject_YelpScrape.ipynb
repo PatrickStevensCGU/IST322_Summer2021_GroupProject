{
  "nbformat": 4,
  "nbformat_minor": 0,
  "metadata": {
    "colab": {
      "name": "IST322_GroupProject_YelpScrape.ipynb",
      "provenance": [],
      "collapsed_sections": [],
      "authorship_tag": "ABX9TyOcWcIWsvkNgIeEVAU+XL3S",
      "include_colab_link": true
    },
    "kernelspec": {
      "name": "python3",
      "display_name": "Python 3"
    },
    "language_info": {
      "name": "python"
    }
  },
  "cells": [
    {
      "cell_type": "markdown",
      "metadata": {
        "id": "view-in-github",
        "colab_type": "text"
      },
      "source": [
        "<a href=\"https://colab.research.google.com/github/PatrickStevensCGU/IST322_Summer2021_GroupProject/blob/main/IST322_GroupProject_YelpScrape.ipynb\" target=\"_parent\"><img src=\"https://colab.research.google.com/assets/colab-badge.svg\" alt=\"Open In Colab\"/></a>"
      ]
    },
    {
      "cell_type": "code",
      "metadata": {
        "id": "hmmqkItI2XUK"
      },
      "source": [
        "import os\n",
        "from bs4 import BeautifulSoup\n",
        "import requests\n",
        "import pandas as pd\n",
        "import numpy as np\n",
        "import re\n",
        "import time \n",
        "import random\n",
        "import urllib"
      ],
      "execution_count": 1,
      "outputs": []
    },
    {
      "cell_type": "code",
      "metadata": {
        "colab": {
          "base_uri": "https://localhost:8080/"
        },
        "id": "qjdHLubQk2kB",
        "outputId": "624a0f8f-ef36-46d8-ddae-42c1bef7ae69"
      },
      "source": [
        "# this you need to do everytime if you do not choose \"permantly mount\" option. \n",
        "from google.colab import drive\n",
        "drive.mount('/content/drive')\n",
        "\n",
        "# Mount the local drive\n",
        "%cd /content/drive/MyDrive/\n",
        "if not os.path.exists('Mydata'):\n",
        "  os.mkdir('Mydata')"
      ],
      "execution_count": 2,
      "outputs": [
        {
          "output_type": "stream",
          "text": [
            "Mounted at /content/drive\n",
            "/content/drive/MyDrive\n"
          ],
          "name": "stdout"
        }
      ]
    },
    {
      "cell_type": "code",
      "metadata": {
        "colab": {
          "base_uri": "https://localhost:8080/"
        },
        "id": "wQ3RMsrLksYx",
        "outputId": "e023b20c-b1b4-4b53-a7ba-f94b95d4ce36"
      },
      "source": [
        "%cd /content/drive/MyDrive/Mydata\n",
        "#df = pd.read_excel('SBRC_Doctor_Reviews.csv', names=['review_rating','date','review','restaurant','city','state','postal_code','restaurant_rating'], header=None, index_col=False)\n",
        "original_doctor_df = pd.read_excel('SBRC_Doctor_Reviews.xlsx', index_col=False)\n",
        "print(f'Total review count: {len(original_doctor_df)}')"
      ],
      "execution_count": 6,
      "outputs": [
        {
          "output_type": "stream",
          "text": [
            "/content/drive/MyDrive/Mydata\n",
            "Total review count: 2607\n"
          ],
          "name": "stdout"
        }
      ]
    },
    {
      "cell_type": "code",
      "metadata": {
        "colab": {
          "base_uri": "https://localhost:8080/",
          "height": 646
        },
        "id": "gsj2QSommCjZ",
        "outputId": "9cf42106-fc30-4429-e7ae-8597d842f204"
      },
      "source": [
        "original_doctor_df['doctorID'] = original_doctor_df.index\n",
        "original_doctor_df = original_doctor_df[['doctorID'] + [col for col in original_doctor_df.columns if col != 'doctorID']]  # move the column to the front\n",
        "original_doctor_df.head()"
      ],
      "execution_count": 7,
      "outputs": [
        {
          "output_type": "execute_result",
          "data": {
            "text/html": [
              "<div>\n",
              "<style scoped>\n",
              "    .dataframe tbody tr th:only-of-type {\n",
              "        vertical-align: middle;\n",
              "    }\n",
              "\n",
              "    .dataframe tbody tr th {\n",
              "        vertical-align: top;\n",
              "    }\n",
              "\n",
              "    .dataframe thead th {\n",
              "        text-align: right;\n",
              "    }\n",
              "</style>\n",
              "<table border=\"1\" class=\"dataframe\">\n",
              "  <thead>\n",
              "    <tr style=\"text-align: right;\">\n",
              "      <th></th>\n",
              "      <th>doctorID</th>\n",
              "      <th>Business ID</th>\n",
              "      <th>Name</th>\n",
              "      <th>Business Category</th>\n",
              "      <th>URL</th>\n",
              "      <th>snippet text</th>\n",
              "      <th>Address</th>\n",
              "      <th>City</th>\n",
              "      <th>State code</th>\n",
              "      <th>zip code</th>\n",
              "      <th>clamed</th>\n",
              "      <th>closed</th>\n",
              "      <th>latitude</th>\n",
              "      <th>longitude</th>\n",
              "      <th>phone</th>\n",
              "    </tr>\n",
              "  </thead>\n",
              "  <tbody>\n",
              "    <tr>\n",
              "      <th>0</th>\n",
              "      <td>0</td>\n",
              "      <td>rancho-wellness-rancho-cucamonga-7</td>\n",
              "      <td>Rancho Wellness</td>\n",
              "      <td>Family Practicefamilydr, Weight Loss Centerswe...</td>\n",
              "      <td>https://www.yelp.com/biz/rancho-wellness-ranch...</td>\n",
              "      <td>First off let me say that it takes A LOT for m...</td>\n",
              "      <td>8231 Rochester AveRancho WellnessRancho Cucamo...</td>\n",
              "      <td>Rancho Cucamonga</td>\n",
              "      <td>CA</td>\n",
              "      <td>91730.0</td>\n",
              "      <td>1</td>\n",
              "      <td>0</td>\n",
              "      <td>34.103970</td>\n",
              "      <td>-117.544580</td>\n",
              "      <td>9.094838e+09</td>\n",
              "    </tr>\n",
              "    <tr>\n",
              "      <th>1</th>\n",
              "      <td>1</td>\n",
              "      <td>san-bernardino-medical-group-san-bernardino</td>\n",
              "      <td>San Bernardino Medical Group</td>\n",
              "      <td>Family Practicefamilydr, Internal Medicineinte...</td>\n",
              "      <td>https://www.yelp.com/biz/san-bernardino-medica...</td>\n",
              "      <td>I have been coming to SBMG for over ten years ...</td>\n",
              "      <td>1700 N Waterman AveSan Bernardino, CA 92404</td>\n",
              "      <td>San Bernardino</td>\n",
              "      <td>CA</td>\n",
              "      <td>92404.0</td>\n",
              "      <td>1</td>\n",
              "      <td>0</td>\n",
              "      <td>34.130330</td>\n",
              "      <td>-117.279740</td>\n",
              "      <td>9.098839e+09</td>\n",
              "    </tr>\n",
              "    <tr>\n",
              "      <th>2</th>\n",
              "      <td>2</td>\n",
              "      <td>st-bernardine-medical-center-baby-and-family-c...</td>\n",
              "      <td>St. Bernardine Medical Center Baby and Family ...</td>\n",
              "      <td>Family Practicefamilydr, Pediatricianspediatri...</td>\n",
              "      <td>https://www.yelp.com/biz/st-bernardine-medical...</td>\n",
              "      <td>Disregard the fact that I'm a man. My wife was...</td>\n",
              "      <td>403 E Highland AveSan Bernardino, CA 92404</td>\n",
              "      <td>San Bernardino</td>\n",
              "      <td>CA</td>\n",
              "      <td>92404.0</td>\n",
              "      <td>1</td>\n",
              "      <td>0</td>\n",
              "      <td>34.135776</td>\n",
              "      <td>-117.275612</td>\n",
              "      <td>9.098814e+09</td>\n",
              "    </tr>\n",
              "    <tr>\n",
              "      <th>3</th>\n",
              "      <td>3</td>\n",
              "      <td>beaver-medical-group-highland-2</td>\n",
              "      <td>Beaver Medical Group</td>\n",
              "      <td>Family Practicefamilydr, Internal Medicineinte...</td>\n",
              "      <td>https://www.yelp.com/biz/beaver-medical-group-...</td>\n",
              "      <td>First time ever going to this particular Beave...</td>\n",
              "      <td>7223 Church StSte CHighland, CA 92346</td>\n",
              "      <td>Highland</td>\n",
              "      <td>CA</td>\n",
              "      <td>92346.0</td>\n",
              "      <td>1</td>\n",
              "      <td>0</td>\n",
              "      <td>34.122251</td>\n",
              "      <td>-117.173181</td>\n",
              "      <td>9.098621e+09</td>\n",
              "    </tr>\n",
              "    <tr>\n",
              "      <th>4</th>\n",
              "      <td>4</td>\n",
              "      <td>ali-uzma-r-md-fontana-2</td>\n",
              "      <td>Ali Uzma R MD</td>\n",
              "      <td>Pediatricianspediatricians,</td>\n",
              "      <td>https://www.yelp.com/biz/ali-uzma-r-md-fontana-2</td>\n",
              "      <td>I have been going to Dr. Ali for over 7 years ...</td>\n",
              "      <td>Fontana, CA 92336</td>\n",
              "      <td>Fontana</td>\n",
              "      <td>CA</td>\n",
              "      <td>92336.0</td>\n",
              "      <td>1</td>\n",
              "      <td>0</td>\n",
              "      <td>34.156970</td>\n",
              "      <td>-117.482160</td>\n",
              "      <td>9.093553e+09</td>\n",
              "    </tr>\n",
              "  </tbody>\n",
              "</table>\n",
              "</div>"
            ],
            "text/plain": [
              "   doctorID  ...         phone\n",
              "0         0  ...  9.094838e+09\n",
              "1         1  ...  9.098839e+09\n",
              "2         2  ...  9.098814e+09\n",
              "3         3  ...  9.098621e+09\n",
              "4         4  ...  9.093553e+09\n",
              "\n",
              "[5 rows x 15 columns]"
            ]
          },
          "metadata": {
            "tags": []
          },
          "execution_count": 7
        }
      ]
    },
    {
      "cell_type": "code",
      "metadata": {
        "colab": {
          "base_uri": "https://localhost:8080/",
          "height": 578
        },
        "id": "27g2h-DnmJLh",
        "outputId": "e5640ab8-9acb-4c15-d543-cca06473c44b"
      },
      "source": [
        "# I was assigned 870 - 1740\n",
        "# base_doctor_url_list = original_doctor_df['URL'][800:999].tolist()\n",
        "# base_doctor_url_list[0]\n",
        "\n",
        "doctors_to_scrape = original_doctor_df[800:999]\n",
        "doctors_to_scrape.head()"
      ],
      "execution_count": 22,
      "outputs": [
        {
          "output_type": "execute_result",
          "data": {
            "text/html": [
              "<div>\n",
              "<style scoped>\n",
              "    .dataframe tbody tr th:only-of-type {\n",
              "        vertical-align: middle;\n",
              "    }\n",
              "\n",
              "    .dataframe tbody tr th {\n",
              "        vertical-align: top;\n",
              "    }\n",
              "\n",
              "    .dataframe thead th {\n",
              "        text-align: right;\n",
              "    }\n",
              "</style>\n",
              "<table border=\"1\" class=\"dataframe\">\n",
              "  <thead>\n",
              "    <tr style=\"text-align: right;\">\n",
              "      <th></th>\n",
              "      <th>doctorID</th>\n",
              "      <th>Business ID</th>\n",
              "      <th>Name</th>\n",
              "      <th>Business Category</th>\n",
              "      <th>URL</th>\n",
              "      <th>snippet text</th>\n",
              "      <th>Address</th>\n",
              "      <th>City</th>\n",
              "      <th>State code</th>\n",
              "      <th>zip code</th>\n",
              "      <th>clamed</th>\n",
              "      <th>closed</th>\n",
              "      <th>latitude</th>\n",
              "      <th>longitude</th>\n",
              "      <th>phone</th>\n",
              "    </tr>\n",
              "  </thead>\n",
              "  <tbody>\n",
              "    <tr>\n",
              "      <th>800</th>\n",
              "      <td>800</td>\n",
              "      <td>daniel-villarosa-md-apple-valley</td>\n",
              "      <td>Daniel Villarosa, MD</td>\n",
              "      <td>Fertilityfertility, Obstetricians &amp; Gynecologi...</td>\n",
              "      <td>https://www.yelp.com/biz/daniel-villarosa-md-a...</td>\n",
              "      <td>I always have the best experience every appt. ...</td>\n",
              "      <td>18064 Wika RdApple Valley, CA 92307</td>\n",
              "      <td>Apple Valley</td>\n",
              "      <td>CA</td>\n",
              "      <td>92307.0</td>\n",
              "      <td>0</td>\n",
              "      <td>0</td>\n",
              "      <td>34.540932</td>\n",
              "      <td>-117.269852</td>\n",
              "      <td>7.608136e+09</td>\n",
              "    </tr>\n",
              "    <tr>\n",
              "      <th>801</th>\n",
              "      <td>801</td>\n",
              "      <td>select-physical-therapy-ridgecrest</td>\n",
              "      <td>Select Physical Therapy</td>\n",
              "      <td>Sports Medicinesportsmed, Physical Therapyphys...</td>\n",
              "      <td>https://www.yelp.com/biz/select-physical-thera...</td>\n",
              "      <td>I recently moved to Ridgecrest, and was in see...</td>\n",
              "      <td>935 East Ridgcrest BlvdRidgecrest, CA 93555</td>\n",
              "      <td>Ridgecrest</td>\n",
              "      <td>CA</td>\n",
              "      <td>93555.0</td>\n",
              "      <td>1</td>\n",
              "      <td>0</td>\n",
              "      <td>35.622102</td>\n",
              "      <td>-117.650538</td>\n",
              "      <td>7.603711e+09</td>\n",
              "    </tr>\n",
              "    <tr>\n",
              "      <th>802</th>\n",
              "      <td>802</td>\n",
              "      <td>hawes-john-r-jr-do-apple-valley</td>\n",
              "      <td>Hawes John R Jr DO</td>\n",
              "      <td>Doctorsphysicians,</td>\n",
              "      <td>https://www.yelp.com/biz/hawes-john-r-jr-do-ap...</td>\n",
              "      <td>I have been coming to Dr. Johns office for a w...</td>\n",
              "      <td>16017 Tuscola RdSte BApple Valley, CA 92307</td>\n",
              "      <td>Apple Valley</td>\n",
              "      <td>CA</td>\n",
              "      <td>92307.0</td>\n",
              "      <td>0</td>\n",
              "      <td>0</td>\n",
              "      <td>34.542247</td>\n",
              "      <td>-117.268836</td>\n",
              "      <td>7.602422e+09</td>\n",
              "    </tr>\n",
              "    <tr>\n",
              "      <th>803</th>\n",
              "      <td>803</td>\n",
              "      <td>family-practice-associates-hesperia</td>\n",
              "      <td>Family Practice Associates</td>\n",
              "      <td>Family Practicefamilydr,</td>\n",
              "      <td>https://www.yelp.com/biz/family-practice-assoc...</td>\n",
              "      <td>Sports Physical was cheap!!!  Don't know why a...</td>\n",
              "      <td>11919 Hesperia RdHesperia, CA 92345</td>\n",
              "      <td>Hesperia</td>\n",
              "      <td>CA</td>\n",
              "      <td>92345.0</td>\n",
              "      <td>1</td>\n",
              "      <td>0</td>\n",
              "      <td>34.467530</td>\n",
              "      <td>-117.291980</td>\n",
              "      <td>7.609481e+09</td>\n",
              "    </tr>\n",
              "    <tr>\n",
              "      <th>804</th>\n",
              "      <td>804</td>\n",
              "      <td>route-66-dot-medical-hesperia-2</td>\n",
              "      <td>Route 66 DOT Medical</td>\n",
              "      <td>Doctorsphysicians,</td>\n",
              "      <td>https://www.yelp.com/biz/route-66-dot-medical-...</td>\n",
              "      <td>These people are great. This is my second year...</td>\n",
              "      <td>8685 US Highway 395Unit BHesperia, CA 92344</td>\n",
              "      <td>Hesperia</td>\n",
              "      <td>CA</td>\n",
              "      <td>92344.0</td>\n",
              "      <td>0</td>\n",
              "      <td>0</td>\n",
              "      <td>34.408610</td>\n",
              "      <td>-117.399125</td>\n",
              "      <td>7.609801e+09</td>\n",
              "    </tr>\n",
              "  </tbody>\n",
              "</table>\n",
              "</div>"
            ],
            "text/plain": [
              "     doctorID                         Business ID   ...   longitude         phone\n",
              "800       800     daniel-villarosa-md-apple-valley  ... -117.269852  7.608136e+09\n",
              "801       801   select-physical-therapy-ridgecrest  ... -117.650538  7.603711e+09\n",
              "802       802      hawes-john-r-jr-do-apple-valley  ... -117.268836  7.602422e+09\n",
              "803       803  family-practice-associates-hesperia  ... -117.291980  7.609481e+09\n",
              "804       804      route-66-dot-medical-hesperia-2  ... -117.399125  7.609801e+09\n",
              "\n",
              "[5 rows x 15 columns]"
            ]
          },
          "metadata": {
            "tags": []
          },
          "execution_count": 22
        }
      ]
    },
    {
      "cell_type": "code",
      "metadata": {
        "id": "uB-t15qAr89k"
      },
      "source": [
        "def random_sleep(min_seconds=60, max_seconds=90):\n",
        "  sleep_seconds = random.randrange(min_seconds, max_seconds)\n",
        "  print(f'Sleeping for {sleep_seconds} seconds...')\n",
        "  time.sleep(sleep_seconds)"
      ],
      "execution_count": 11,
      "outputs": []
    },
    {
      "cell_type": "code",
      "metadata": {
        "id": "l3QbN7WAsg0z"
      },
      "source": [
        "import requests\n",
        "def url_to_soup(url, min_seconds=60, max_seconds=90):\n",
        "  random_sleep(min_seconds, max_seconds)  # sleep at least a minute between any request\n",
        "  print(f'Calling url: {url}')\n",
        "  response = requests.get(url).text  # Make a GET request to the target URL to get the raw HTML data\n",
        "  soup = BeautifulSoup(response,'html.parser')  # Use BeautifulSoup to parse HTML\n",
        "  return soup"
      ],
      "execution_count": 12,
      "outputs": []
    },
    {
      "cell_type": "code",
      "metadata": {
        "id": "fY5irqv9vbfh"
      },
      "source": [
        "def add_doctor_without_review(doctors_without_reviews_df, doctorID):\n",
        "  # rebuild the dataframe, but with the new doctor URL\n",
        "  doc_list = doctors_without_reviews_df['doctorID'].tolist()\n",
        "  doc_list.append(doctorID)  \n",
        "  doctors_without_reviews_df = pd.DataFrame(doc_list, columns=['doctorID'])\n",
        "  doctors_without_reviews_df.to_pickle('/content/drive/MyDrive/Mydata/doctors_without_reviews_df_PICKLE')\n",
        "  print('************** NO REVIEWS FOUND **************')"
      ],
      "execution_count": 14,
      "outputs": []
    },
    {
      "cell_type": "code",
      "metadata": {
        "id": "YlQMpOplJPGL"
      },
      "source": [
        "def get_review_count(soup, review_count_class_ids):\n",
        "  # review count is needed to know how many pages to scrape.  This ID can be one of multiple\n",
        "  number_reviews = -1\n",
        "  for review_count_class_id in review_count_class_ids:\n",
        "    review_soup = soup.find(class_=review_count_class_id)\n",
        "    if review_soup:      \n",
        "      number_reviews = review_soup.text\n",
        "      break;\n",
        "  \n",
        "  number_reviews_string_list = re.findall('\\d+', number_reviews)\n",
        "  if number_reviews_string_list:  # make sure the list isn't empty\n",
        "    number_reviews = int(number_reviews_string_list[0])   # Use rex to extract the numbers from a string \n",
        "  else:\n",
        "    return -1\n",
        "\n",
        "  print(f'review count: {number_reviews}')\n",
        "  return number_reviews"
      ],
      "execution_count": 15,
      "outputs": []
    },
    {
      "cell_type": "code",
      "metadata": {
        "id": "fuC50llb_-12"
      },
      "source": [
        "# Start with wherever we left off last\n",
        "review_df = pd.read_pickle('/content/drive/MyDrive/Mydata/review_df_PICKLE')\n",
        "\n",
        "# Persist the docs without reviews, so they can be skipped without the sleep delay just finding out again that there are no reviews.\n",
        "doctors_without_reviews_df = pd.read_pickle('/content/drive/MyDrive/Mydata/doctors_without_reviews_df_PICKLE')\n",
        "\n",
        "# Otherwise, use this if starting fresh\n",
        "# columns = ['doctorID', 'base_doctor_url', 'review_username', 'review_rating', 'review_date', 'review']\n",
        "# review_df = pd.DataFrame(columns=columns)\n",
        "# columns = ['doctorID']\n",
        "# doctors_without_reviews_df = pd.DataFrame(columns=columns)"
      ],
      "execution_count": 25,
      "outputs": []
    },
    {
      "cell_type": "code",
      "metadata": {
        "colab": {
          "base_uri": "https://localhost:8080/"
        },
        "id": "u-1bEkMgjrKA",
        "outputId": "34e4c965-a4a0-4803-bae0-f76368b2a1d9"
      },
      "source": [
        "print(len(review_df))\n",
        "print(len(doctors_without_reviews_df))"
      ],
      "execution_count": 26,
      "outputs": [
        {
          "output_type": "stream",
          "text": [
            "0\n",
            "0\n"
          ],
          "name": "stdout"
        }
      ]
    },
    {
      "cell_type": "code",
      "metadata": {
        "colab": {
          "base_uri": "https://localhost:8080/"
        },
        "id": "H5UePrNxkmzo",
        "outputId": "19435322-0f9b-4f16-a90e-944423da5efd"
      },
      "source": [
        "##### FOR TESTING START WITH 1 doctor. Comment this out when running for real.\n",
        "#base_doctor_url_list = base_doctor_url_list[:2]\n",
        "#base_doctor_url_list = base_doctor_url_list[:2]\n",
        "#base_doctor_url_list = ['https://www.yelp.com/biz/a-doctors-weight-loss-clinic-moreno-valley-2']\n",
        "#base_doctor_url_list = ['https://www.yelp.com/biz/a-doctors-weight-loss-clinic-moreno-valley-2?start=10']\n",
        "\n",
        "#doctors_already_done = review_df['base_doctor_url'].unique()\n",
        "#doctors_already_done = []\n",
        "\n",
        "# Yelp HTML class IDs\n",
        "review_count_class_ids = ['css-1h1j0y3', 'css-bq71j2']\n",
        "review_class_id = 'review__373c0__3MsBX'  # was review__373c0__13kpL\n",
        "star_class_id = 'i-stars__373c0___sZu0'  # was i-stars__373c0__1T6rz\n",
        "username_class_id = 'css-166la90'\n",
        "date_class_id = 'css-e81eai'\n",
        "content_class_id = 'raw__373c0__tQAx6' # was raw__373c0__3rcx7\n",
        "\n",
        "count_series = review_df['doctorID'].value_counts()\n",
        "\n",
        "total_doctors_count = len(doctors_to_scrape)\n",
        "for index, row in doctors_to_scrape.iterrows():\n",
        "\n",
        "  # Values to use later\n",
        "  original_base_doctor_url = row['URL'] # because the re-directs won't match the actual url used\n",
        "  doctor_id = row['doctorID']\n",
        "\n",
        "  debug_text = f'{index} of {index + total_doctors_count}: {original_base_doctor_url} {doctor_id}'\n",
        "  # Check if this one was scraped before but had no reviews\n",
        "  if doctor_id in doctors_without_reviews_df['doctorID'].values:\n",
        "    print(f'{debug_text} - Previously searched - NO REVIEWS')\n",
        "    continue\n",
        "\n",
        "  # Check if this one was scraped before and is already in the data\n",
        "  if doctor_id in count_series:\n",
        "    previous_review_count = count_series[base_doctor_url]\n",
        "    print(f'{debug_text} - Previously searched - {previous_review_count} reviews')\n",
        "    continue\n",
        "\n",
        "  # for the first URL, make sure to handle re-directs, which are common\n",
        "  print(f'{debug_text} - New doc')\n",
        "  base_doctor_url = original_base_doctor_url\n",
        "  time.sleep (random.randint(30, 40))\n",
        "  res = urllib.request.urlopen(original_base_doctor_url)\n",
        "  final_url = res.geturl()\n",
        "  if final_url != original_base_doctor_url:\n",
        "    print(f'Handle redirect to: {final_url}')\n",
        "    base_doctor_url = final_url\n",
        "\n",
        "  # Start with souping the initial page with the URL from the input CSV\n",
        "  first_soup = url_to_soup(base_doctor_url, min_seconds=120, max_seconds=130) # for the first of each doctor, wait at least 2 minutes \n",
        "\n",
        "  # From that first page, get the number of reviews\n",
        "  number_reviews = get_review_count(first_soup, review_count_class_ids)\n",
        "\n",
        "  # if there are no reviews, then we are done with this one\n",
        "  if number_reviews <= 0:\n",
        "    add_doctor_without_review(doctors_without_reviews_df, doctor_id)\n",
        "    continue\n",
        "\n",
        "  # Find all of the reviews using soup\n",
        "  soup_findall_resultsets = []\n",
        "  first_set_of_reviews = first_soup.findAll(class_=review_class_id)\n",
        "  print(f'FIRST SET OF REVIEWS SCRAPED: Count of initial reviews in soup_findall_resultsets: {len(first_set_of_reviews)}')\n",
        "  soup_findall_resultsets.append(first_set_of_reviews)\n",
        "\n",
        "  # Create the rest of the URLs needed to get all reviews for this doctor\n",
        "  subsequent_review_page_urls = []\n",
        "  for i in range (0, number_reviews, 10):\n",
        "    subsequent_review_page_urls.append(f'{base_doctor_url}?start={str(i)}')\n",
        "  del subsequent_review_page_urls[0]  # Get rid of the first one, because adding start=0 is the same as the base url\n",
        "\n",
        "  # Make the rest of the requests\n",
        "  for url_to_request in subsequent_review_page_urls:\n",
        "    next_soup = url_to_soup(url_to_request, min_seconds=60, max_seconds=90) # one minute to 1.5 minute wait\n",
        "    new_resultset = next_soup.findAll(class_=review_class_id)\n",
        "    print(f'NEXT SET OF REVIEWS SCRAPED: Count of reviews in new_resultset: {len(new_resultset)}')\n",
        "    soup_findall_resultsets.append(new_resultset)\n",
        "\n",
        "  # Combine the soup results into one ResultSet\n",
        "  soup_resultset = soup_findall_resultsets[0]\n",
        "  for soup_findall_resultset in soup_findall_resultsets[1:]:\n",
        "    soup_resultset.extend(soup_findall_resultset)\n",
        "    print(f'Updated count of results in soup_resultset: {len(soup_resultset)}')\n",
        "\n",
        "  for review in soup_resultset:\n",
        "    # extract attribute value using the key aria-label for star ratings. \n",
        "    review_rating_string = review.find (class_=star_class_id)['aria-label']\n",
        "    # \\d+ is a regular expression pattern to extract numbers from a string\n",
        "    review_rating = float (re.findall('\\d+', review_rating_string)[0])  \n",
        "\n",
        "    review_username = review.find (class_=username_class_id).text # the user name for the review\n",
        "    review_date = review.find (class_=date_class_id).text # the date of the review\n",
        "    review_content = review.find(class_=content_class_id, attrs={'lang':'en'}).text  # the text of the review\n",
        "\n",
        "    single_review = {'doctorID': doctor_id, 'base_doctor_url': original_base_doctor_url, 'review_username': review_username,\n",
        "                     'review_rating': review_rating, 'review_date': review_date, 'review': review_content}\n",
        "    review_df = review_df.append(single_review, ignore_index = True)\n",
        "  \n",
        "  review_df.to_pickle('/content/drive/MyDrive/Mydata/review_df_PICKLE')\n",
        "\n",
        "print('DONE')"
      ],
      "execution_count": null,
      "outputs": [
        {
          "output_type": "stream",
          "text": [
            "800 of 999: https://www.yelp.com/biz/daniel-villarosa-md-apple-valley 800 - New doc\n"
          ],
          "name": "stdout"
        }
      ]
    },
    {
      "cell_type": "code",
      "metadata": {
        "id": "OPkvPGtL99R_"
      },
      "source": [
        "review_df.to_csv('/content/drive/MyDrive/Mydata/review_df.csv')"
      ],
      "execution_count": 26,
      "outputs": []
    }
  ]
}