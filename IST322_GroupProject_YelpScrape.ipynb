{
  "nbformat": 4,
  "nbformat_minor": 0,
  "metadata": {
    "colab": {
      "name": "IST322_GroupProject_YelpScrape.ipynb",
      "provenance": [],
      "collapsed_sections": [],
      "authorship_tag": "ABX9TyMVgOKpgFREExcWEQIL68HE",
      "include_colab_link": true
    },
    "kernelspec": {
      "name": "python3",
      "display_name": "Python 3"
    },
    "language_info": {
      "name": "python"
    }
  },
  "cells": [
    {
      "cell_type": "markdown",
      "metadata": {
        "id": "view-in-github",
        "colab_type": "text"
      },
      "source": [
        "<a href=\"https://colab.research.google.com/github/PatrickStevensCGU/IST322_Summer2021_GroupProject/blob/main/IST322_GroupProject_YelpScrape.ipynb\" target=\"_parent\"><img src=\"https://colab.research.google.com/assets/colab-badge.svg\" alt=\"Open In Colab\"/></a>"
      ]
    },
    {
      "cell_type": "code",
      "metadata": {
        "id": "hmmqkItI2XUK"
      },
      "source": [
        "import os\n",
        "from bs4 import BeautifulSoup\n",
        "import requests\n",
        "import pandas as pd\n",
        "import numpy as np\n",
        "import re\n",
        "import time \n",
        "import random\n",
        "import urllib"
      ],
      "execution_count": 13,
      "outputs": []
    },
    {
      "cell_type": "code",
      "metadata": {
        "colab": {
          "base_uri": "https://localhost:8080/"
        },
        "id": "qjdHLubQk2kB",
        "outputId": "8ae27ae4-a1d5-4af3-84df-66eafd5c7fe4"
      },
      "source": [
        "# this you need to do everytime if you do not choose \"permantly mount\" option. \n",
        "from google.colab import drive\n",
        "drive.mount('/content/drive')\n",
        "\n",
        "# Mount the local drive\n",
        "%cd /content/drive/MyDrive/\n",
        "if not os.path.exists('Mydata'):\n",
        "  os.mkdir('Mydata')"
      ],
      "execution_count": 2,
      "outputs": [
        {
          "output_type": "stream",
          "text": [
            "Mounted at /content/drive\n",
            "/content/drive/MyDrive\n"
          ],
          "name": "stdout"
        }
      ]
    },
    {
      "cell_type": "code",
      "metadata": {
        "colab": {
          "base_uri": "https://localhost:8080/"
        },
        "id": "wQ3RMsrLksYx",
        "outputId": "663a6624-93a0-42e1-97e8-07da139d96b7"
      },
      "source": [
        "%cd /content/drive/MyDrive/Mydata\n",
        "#df = pd.read_excel('SBRC_Doctor_Reviews.csv', names=['review_rating','date','review','restaurant','city','state','postal_code','restaurant_rating'], header=None, index_col=False)\n",
        "original_doctor_df = pd.read_excel('SBRC_Doctor_Reviews.xlsx', index_col=False)\n",
        "print(f'Total review count: {len(original_doctor_df)}')"
      ],
      "execution_count": 3,
      "outputs": [
        {
          "output_type": "stream",
          "text": [
            "/content/drive/MyDrive/Mydata\n",
            "Total review count: 2607\n"
          ],
          "name": "stdout"
        }
      ]
    },
    {
      "cell_type": "code",
      "metadata": {
        "colab": {
          "base_uri": "https://localhost:8080/",
          "height": 544
        },
        "id": "gsj2QSommCjZ",
        "outputId": "15ef08a1-a87f-4b37-e204-f4128cd7eefb"
      },
      "source": [
        "original_doctor_df.head()"
      ],
      "execution_count": 4,
      "outputs": [
        {
          "output_type": "execute_result",
          "data": {
            "text/html": [
              "<div>\n",
              "<style scoped>\n",
              "    .dataframe tbody tr th:only-of-type {\n",
              "        vertical-align: middle;\n",
              "    }\n",
              "\n",
              "    .dataframe tbody tr th {\n",
              "        vertical-align: top;\n",
              "    }\n",
              "\n",
              "    .dataframe thead th {\n",
              "        text-align: right;\n",
              "    }\n",
              "</style>\n",
              "<table border=\"1\" class=\"dataframe\">\n",
              "  <thead>\n",
              "    <tr style=\"text-align: right;\">\n",
              "      <th></th>\n",
              "      <th>Business ID</th>\n",
              "      <th>Name</th>\n",
              "      <th>Business Category</th>\n",
              "      <th>URL</th>\n",
              "      <th>snippet text</th>\n",
              "      <th>Address</th>\n",
              "      <th>City</th>\n",
              "      <th>State code</th>\n",
              "      <th>zip code</th>\n",
              "      <th>clamed</th>\n",
              "      <th>closed</th>\n",
              "      <th>latitude</th>\n",
              "      <th>longitude</th>\n",
              "      <th>phone</th>\n",
              "    </tr>\n",
              "  </thead>\n",
              "  <tbody>\n",
              "    <tr>\n",
              "      <th>0</th>\n",
              "      <td>rancho-wellness-rancho-cucamonga-7</td>\n",
              "      <td>Rancho Wellness</td>\n",
              "      <td>Family Practicefamilydr, Weight Loss Centerswe...</td>\n",
              "      <td>https://www.yelp.com/biz/rancho-wellness-ranch...</td>\n",
              "      <td>First off let me say that it takes A LOT for m...</td>\n",
              "      <td>8231 Rochester AveRancho WellnessRancho Cucamo...</td>\n",
              "      <td>Rancho Cucamonga</td>\n",
              "      <td>CA</td>\n",
              "      <td>91730.0</td>\n",
              "      <td>1</td>\n",
              "      <td>0</td>\n",
              "      <td>34.103970</td>\n",
              "      <td>-117.544580</td>\n",
              "      <td>9.094838e+09</td>\n",
              "    </tr>\n",
              "    <tr>\n",
              "      <th>1</th>\n",
              "      <td>san-bernardino-medical-group-san-bernardino</td>\n",
              "      <td>San Bernardino Medical Group</td>\n",
              "      <td>Family Practicefamilydr, Internal Medicineinte...</td>\n",
              "      <td>https://www.yelp.com/biz/san-bernardino-medica...</td>\n",
              "      <td>I have been coming to SBMG for over ten years ...</td>\n",
              "      <td>1700 N Waterman AveSan Bernardino, CA 92404</td>\n",
              "      <td>San Bernardino</td>\n",
              "      <td>CA</td>\n",
              "      <td>92404.0</td>\n",
              "      <td>1</td>\n",
              "      <td>0</td>\n",
              "      <td>34.130330</td>\n",
              "      <td>-117.279740</td>\n",
              "      <td>9.098839e+09</td>\n",
              "    </tr>\n",
              "    <tr>\n",
              "      <th>2</th>\n",
              "      <td>st-bernardine-medical-center-baby-and-family-c...</td>\n",
              "      <td>St. Bernardine Medical Center Baby and Family ...</td>\n",
              "      <td>Family Practicefamilydr, Pediatricianspediatri...</td>\n",
              "      <td>https://www.yelp.com/biz/st-bernardine-medical...</td>\n",
              "      <td>Disregard the fact that I'm a man. My wife was...</td>\n",
              "      <td>403 E Highland AveSan Bernardino, CA 92404</td>\n",
              "      <td>San Bernardino</td>\n",
              "      <td>CA</td>\n",
              "      <td>92404.0</td>\n",
              "      <td>1</td>\n",
              "      <td>0</td>\n",
              "      <td>34.135776</td>\n",
              "      <td>-117.275612</td>\n",
              "      <td>9.098814e+09</td>\n",
              "    </tr>\n",
              "    <tr>\n",
              "      <th>3</th>\n",
              "      <td>beaver-medical-group-highland-2</td>\n",
              "      <td>Beaver Medical Group</td>\n",
              "      <td>Family Practicefamilydr, Internal Medicineinte...</td>\n",
              "      <td>https://www.yelp.com/biz/beaver-medical-group-...</td>\n",
              "      <td>First time ever going to this particular Beave...</td>\n",
              "      <td>7223 Church StSte CHighland, CA 92346</td>\n",
              "      <td>Highland</td>\n",
              "      <td>CA</td>\n",
              "      <td>92346.0</td>\n",
              "      <td>1</td>\n",
              "      <td>0</td>\n",
              "      <td>34.122251</td>\n",
              "      <td>-117.173181</td>\n",
              "      <td>9.098621e+09</td>\n",
              "    </tr>\n",
              "    <tr>\n",
              "      <th>4</th>\n",
              "      <td>ali-uzma-r-md-fontana-2</td>\n",
              "      <td>Ali Uzma R MD</td>\n",
              "      <td>Pediatricianspediatricians,</td>\n",
              "      <td>https://www.yelp.com/biz/ali-uzma-r-md-fontana-2</td>\n",
              "      <td>I have been going to Dr. Ali for over 7 years ...</td>\n",
              "      <td>Fontana, CA 92336</td>\n",
              "      <td>Fontana</td>\n",
              "      <td>CA</td>\n",
              "      <td>92336.0</td>\n",
              "      <td>1</td>\n",
              "      <td>0</td>\n",
              "      <td>34.156970</td>\n",
              "      <td>-117.482160</td>\n",
              "      <td>9.093553e+09</td>\n",
              "    </tr>\n",
              "  </tbody>\n",
              "</table>\n",
              "</div>"
            ],
            "text/plain": [
              "                                        Business ID   ...         phone\n",
              "0                 rancho-wellness-rancho-cucamonga-7  ...  9.094838e+09\n",
              "1        san-bernardino-medical-group-san-bernardino  ...  9.098839e+09\n",
              "2  st-bernardine-medical-center-baby-and-family-c...  ...  9.098814e+09\n",
              "3                    beaver-medical-group-highland-2  ...  9.098621e+09\n",
              "4                            ali-uzma-r-md-fontana-2  ...  9.093553e+09\n",
              "\n",
              "[5 rows x 14 columns]"
            ]
          },
          "metadata": {
            "tags": []
          },
          "execution_count": 4
        }
      ]
    },
    {
      "cell_type": "code",
      "metadata": {
        "colab": {
          "base_uri": "https://localhost:8080/",
          "height": 35
        },
        "id": "27g2h-DnmJLh",
        "outputId": "77001dc2-4113-438a-dc33-9f30a8cba0b1"
      },
      "source": [
        "# I was assigned 870 - 1740\n",
        "base_doctor_url_list = original_doctor_df['URL'][870:1740].tolist()\n",
        "base_doctor_url_list[0]"
      ],
      "execution_count": 43,
      "outputs": [
        {
          "output_type": "execute_result",
          "data": {
            "application/vnd.google.colaboratory.intrinsic+json": {
              "type": "string"
            },
            "text/plain": [
              "'https://www.yelp.com/biz/steven-e-hodgkin-md-victorville'"
            ]
          },
          "metadata": {
            "tags": []
          },
          "execution_count": 43
        }
      ]
    },
    {
      "cell_type": "code",
      "metadata": {
        "id": "uB-t15qAr89k"
      },
      "source": [
        "def random_sleep(min_seconds=60, max_seconds=90):\n",
        "  sleep_seconds = random.randrange(min_seconds, max_seconds)\n",
        "  print(f'Sleeping for {sleep_seconds} seconds...')\n",
        "  time.sleep(sleep_seconds)"
      ],
      "execution_count": 6,
      "outputs": []
    },
    {
      "cell_type": "code",
      "metadata": {
        "id": "l3QbN7WAsg0z"
      },
      "source": [
        "import requests\n",
        "def url_to_soup(url, min_seconds=60, max_seconds=90):\n",
        "  random_sleep(min_seconds, max_seconds)  # sleep at least a minute between any request\n",
        "  print(f'Calling url: {url}')\n",
        "  response = requests.get(url).text  # Make a GET request to the target URL to get the raw HTML data\n",
        "  soup = BeautifulSoup(response,'html.parser')  # Use BeautifulSoup to parse HTML\n",
        "  return soup"
      ],
      "execution_count": 8,
      "outputs": []
    },
    {
      "cell_type": "code",
      "metadata": {
        "id": "fY5irqv9vbfh"
      },
      "source": [
        "def add_doctor_without_review(doctors_without_reviews_df, base_doctor_url):\n",
        "  # rebuild the dataframe, but with the new doctor URL\n",
        "  doc_list = doctors_without_reviews_df['url'].tolist()\n",
        "  doc_list.append(base_doctor_url)  \n",
        "  doctors_without_reviews_df = pd.DataFrame(doc_list, columns=['url'])\n",
        "  doctors_without_reviews_df.to_pickle('/content/drive/MyDrive/Mydata/doctors_without_reviews_df_PICKLE')\n",
        "  print('************** NO REVIEWS FOUND **************')"
      ],
      "execution_count": 9,
      "outputs": []
    },
    {
      "cell_type": "code",
      "metadata": {
        "id": "YlQMpOplJPGL"
      },
      "source": [
        "def get_review_count(soup, review_count_class_ids):\n",
        "  # review count is needed to know how many pages to scrape.  This ID can be one of multiple\n",
        "  number_reviews = -1\n",
        "  for review_count_class_id in review_count_class_ids:\n",
        "    review_soup = soup.find(class_=review_count_class_id)\n",
        "    if review_soup:      \n",
        "      number_reviews = review_soup.text\n",
        "      break;\n",
        "  \n",
        "  number_reviews_string_list = re.findall('\\d+', number_reviews)\n",
        "  if number_reviews_string_list:  # make sure the list isn't empty\n",
        "    number_reviews = int(number_reviews_string_list[0])   # Use rex to extract the numbers from a string \n",
        "  else:\n",
        "    return -1\n",
        "\n",
        "  print(f'review count: {number_reviews}')\n",
        "  return number_reviews"
      ],
      "execution_count": 11,
      "outputs": []
    },
    {
      "cell_type": "code",
      "metadata": {
        "id": "fuC50llb_-12"
      },
      "source": [
        "# Start with wherever we left off last\n",
        "review_df = pd.read_pickle('/content/drive/MyDrive/Mydata/review_df_PICKLE')\n",
        "\n",
        "# Otherwise, use this if starting fresh\n",
        "#columns = ['base_doctor_url', 'review_username', 'review_rating', 'review_date', 'review']\n",
        "#review_df = pd.DataFrame(columns=columns)\n",
        "\n",
        "# Persist the docs without reviews, so they can be skipped without the sleep delay just finding out again that there are no reviews.\n",
        "doctors_without_reviews_df = pd.read_pickle('/content/drive/MyDrive/Mydata/doctors_without_reviews_df_PICKLE')"
      ],
      "execution_count": 39,
      "outputs": []
    },
    {
      "cell_type": "code",
      "metadata": {
        "colab": {
          "base_uri": "https://localhost:8080/"
        },
        "id": "u-1bEkMgjrKA",
        "outputId": "8fd7055e-630a-446d-9df1-fde8f20fa0e1"
      },
      "source": [
        "len(review_df)"
      ],
      "execution_count": 41,
      "outputs": [
        {
          "output_type": "execute_result",
          "data": {
            "text/plain": [
              "1247"
            ]
          },
          "metadata": {
            "tags": []
          },
          "execution_count": 41
        }
      ]
    },
    {
      "cell_type": "code",
      "metadata": {
        "colab": {
          "base_uri": "https://localhost:8080/"
        },
        "id": "H5UePrNxkmzo",
        "outputId": "e4acd4b2-a1b3-463c-b9ed-cf961eb6cd7e"
      },
      "source": [
        "##### FOR TESTING START WITH 1 doctor. Comment this out when running for real.\n",
        "#base_doctor_url_list = base_doctor_url_list[:2]\n",
        "#base_doctor_url_list = base_doctor_url_list[:2]\n",
        "#base_doctor_url_list = ['https://www.yelp.com/biz/a-doctors-weight-loss-clinic-moreno-valley-2']\n",
        "#base_doctor_url_list = ['https://www.yelp.com/biz/a-doctors-weight-loss-clinic-moreno-valley-2?start=10']\n",
        "\n",
        "#doctors_already_done = review_df['base_doctor_url'].unique()\n",
        "#doctors_already_done = []\n",
        "\n",
        "# Yelp HTML class IDs\n",
        "review_count_class_ids = ['css-1h1j0y3', 'css-bq71j2']\n",
        "review_class_id = 'review__373c0__3MsBX'  # was review__373c0__13kpL\n",
        "star_class_id = 'i-stars__373c0___sZu0'  # was i-stars__373c0__1T6rz\n",
        "username_class_id = 'css-166la90'\n",
        "date_class_id = 'css-e81eai'\n",
        "content_class_id = 'raw__373c0__tQAx6' # was raw__373c0__3rcx7\n",
        "\n",
        "count_series = review_df['base_doctor_url'].value_counts()\n",
        "\n",
        "total_doctors_count = len(base_doctor_url_list)\n",
        "for index, base_doctor_url in enumerate(base_doctor_url_list): \n",
        "  # Check if we already did this one\n",
        "  # if base_doctor_url in doctors_already_done:\n",
        "  #   print(f'{index+1} of {total_doctors_count}: {base_doctor_url} - Done')\n",
        "  #   continue\n",
        "  if base_doctor_url in doctors_without_reviews_df['url'].values:\n",
        "    print(f'{index+1} of {total_doctors_count}: {base_doctor_url} - Previously searched - NO REVIEWS')\n",
        "    continue\n",
        "\n",
        "  # The ones already in the list, with less than 10 reviews don't need to be attempted again\n",
        "  #print(type(count_series))\n",
        "  already_has_10 = False\n",
        "  if base_doctor_url in count_series:\n",
        "    previous_review_count = count_series[base_doctor_url]\n",
        "    print(f'{index+1} of {total_doctors_count}: {base_doctor_url} - Previously searched - {previous_review_count} reviews')\n",
        "    if previous_review_count < 10:\n",
        "      continue\n",
        "    else:\n",
        "      already_has_10 = True\n",
        "  else:\n",
        "    print(f'{index+1} of {total_doctors_count}: {base_doctor_url} - New doc')\n",
        "\n",
        "  # for the first URL, make sure to handle re-directs, which are common\n",
        "  time.sleep (random.randint(30, 40))\n",
        "  res = urllib.request.urlopen(base_doctor_url)\n",
        "  final_url = res.geturl()\n",
        "  if final_url != base_doctor_url:\n",
        "    print(f'Handle redirect to: {final_url}')\n",
        "    base_doctor_url = final_url\n",
        "\n",
        "  # Start with souping the initial page with the URL from the input CSV\n",
        "  first_soup = url_to_soup(base_doctor_url, min_seconds=120, max_seconds=130) # for the first of each doctor, wait at least 2 minutes \n",
        "\n",
        "  # From that first page, get the number of reviews\n",
        "  number_reviews = get_review_count(first_soup, review_count_class_ids)\n",
        "  # if there are no reviews, then we are done?\n",
        "  if number_reviews <= 0:\n",
        "    add_doctor_without_review(doctors_without_reviews_df, base_doctor_url)\n",
        "    continue\n",
        "\n",
        "  if already_has_10 and number_reviews == 10:\n",
        "    print('  ** 10 total reviews. Done')\n",
        "    continue\n",
        "\n",
        "  soup_findall_resultsets = []\n",
        "  if not already_has_10: # don't get the first 10 again if they are already there\n",
        "    first_set_of_reviews = first_soup.findAll(class_=review_class_id)\n",
        "    print(f'FIRST SET OF REVIEWS SCRAPED: Count of initial reviews in soup_findall_resultsets: {len(first_set_of_reviews)}')\n",
        "    soup_findall_resultsets.append(first_set_of_reviews)\n",
        "\n",
        "  # Create the rest of the URLs needed to get all reviews for this doctor\n",
        "  subsequent_review_page_urls = []\n",
        "  for i in range (0, number_reviews, 10):\n",
        "    subsequent_review_page_urls.append(f'{base_doctor_url}?start={str(i)}')\n",
        "  del subsequent_review_page_urls[0]  # Get rid of the first one, because adding start=0 is the same as the base url\n",
        "\n",
        "  # Make the rest of the requests\n",
        "  for url_to_request in subsequent_review_page_urls:\n",
        "    next_soup = url_to_soup(url_to_request, min_seconds=60, max_seconds=90) # one minute to 1.5 minute wait\n",
        "    new_resultset = next_soup.findAll(class_=review_class_id)\n",
        "    print(f'NEXT SET OF REVIEWS SCRAPED: Count of reviews in new_resultset: {len(new_resultset)}')\n",
        "    soup_findall_resultsets.append(new_resultset)\n",
        "\n",
        "  # Combine the soup results into one ResultSet\n",
        "  soup_resultset = soup_findall_resultsets[0]\n",
        "  #print(f'First URL count of results in soup_resultset: {len(soup_resultset)}')\n",
        "  # print(f'Second URL count of results in soup_resultset: {len(soup_resultset[1])}')\n",
        "\n",
        "  for soup_findall_resultset in soup_findall_resultsets[1:]:\n",
        "    #print(f'Extend URL count of results in soup_resultset: {len(soup_findall_resultset)}')\n",
        "    soup_resultset.extend(soup_findall_resultset)\n",
        "    # soup_resultset_extend_list_one.extend([soup_findall_resultset])\n",
        "    # soup_resultset_extend_one.extend(soup_findall_resultset)\n",
        "    print(f'Updated count of results in soup_resultset: {len(soup_resultset)}')\n",
        "\n",
        "  for review in soup_resultset:\n",
        "    # extract attribute value using the key aria-label for star ratings. \n",
        "    review_rating_string = review.find (class_=star_class_id)['aria-label']\n",
        "    # \\d+ is a regular expression pattern to extract numbers from a string\n",
        "    review_rating = float (re.findall('\\d+', review_rating_string)[0])  \n",
        "\n",
        "    review_username = review.find (class_=username_class_id).text # the user name for the review\n",
        "    review_date = review.find (class_=date_class_id).text # the date of the review\n",
        "    review_content = review.find(class_=content_class_id, attrs={'lang':'en'}).text  # the text of the review\n",
        "\n",
        "    single_review = {'base_doctor_url': base_doctor_url, 'review_username': review_username,\n",
        "                     'review_rating': review_rating, 'review_date': review_date, 'review': review_content}\n",
        "    review_df = review_df.append(single_review, ignore_index = True)\n",
        "  \n",
        "  review_df.to_pickle('/content/drive/MyDrive/Mydata/review_df_PICKLE')\n",
        "\n",
        "print('DONE')"
      ],
      "execution_count": null,
      "outputs": [
        {
          "output_type": "stream",
          "text": [
            "<class 'pandas.core.series.Series'>\n",
            "1 of 870: https://www.yelp.com/biz/steven-e-hodgkin-md-victorville - Previously searched - 9 reviews\n",
            "<class 'pandas.core.series.Series'>\n",
            "2 of 870: https://www.yelp.com/biz/agnes-quion-md-victorville - Previously searched - 2 reviews\n",
            "<class 'pandas.core.series.Series'>\n",
            "3 of 870: https://www.yelp.com/biz/hesperia-physical-therapy-and-aquatics-hesperia - Previously searched - 10 reviews\n",
            "Sleeping for 125 seconds...\n",
            "Calling url: https://www.yelp.com/biz/hesperia-physical-therapy-and-aquatics-hesperia\n",
            "review count: 10\n",
            "  ** 10 total reviews. Done\n",
            "<class 'pandas.core.series.Series'>\n",
            "4 of 870: https://www.yelp.com/biz/stephen-chow-md-apple-valley - Previously searched - 7 reviews\n",
            "<class 'pandas.core.series.Series'>\n",
            "5 of 870: https://www.yelp.com/biz/stanton-paul-md-apple-valley - Previously searched - 2 reviews\n",
            "<class 'pandas.core.series.Series'>\n",
            "6 of 870: https://www.yelp.com/biz/dr-mikes-medical-clinic-apple-valley - Previously searched - 10 reviews\n",
            "Sleeping for 125 seconds...\n",
            "Calling url: https://www.yelp.com/biz/dr-mikes-medical-clinic-apple-valley\n",
            "review count: 48\n",
            "Sleeping for 75 seconds...\n",
            "Calling url: https://www.yelp.com/biz/dr-mikes-medical-clinic-apple-valley?start=10\n",
            "NEXT SET OF REVIEWS SCRAPED: Count of reviews in new_resultset: 10\n",
            "Sleeping for 60 seconds...\n",
            "Calling url: https://www.yelp.com/biz/dr-mikes-medical-clinic-apple-valley?start=20\n",
            "NEXT SET OF REVIEWS SCRAPED: Count of reviews in new_resultset: 10\n",
            "Sleeping for 68 seconds...\n",
            "Calling url: https://www.yelp.com/biz/dr-mikes-medical-clinic-apple-valley?start=30\n",
            "NEXT SET OF REVIEWS SCRAPED: Count of reviews in new_resultset: 10\n",
            "Sleeping for 83 seconds...\n",
            "Calling url: https://www.yelp.com/biz/dr-mikes-medical-clinic-apple-valley?start=40\n",
            "NEXT SET OF REVIEWS SCRAPED: Count of reviews in new_resultset: 8\n",
            "Updated count of results in soup_resultset: 20\n",
            "Updated count of results in soup_resultset: 30\n",
            "Updated count of results in soup_resultset: 38\n",
            "<class 'pandas.core.series.Series'>\n",
            "7 of 870: https://www.yelp.com/biz/st-mary-high-desert-medical-group-victorville-2 - Previously searched - 10 reviews\n",
            "Handle redirect to: https://www.yelp.com/biz/st-mary-high-desert-medical-group-victorville-urgent-care-victorville\n",
            "Sleeping for 120 seconds...\n",
            "Calling url: https://www.yelp.com/biz/st-mary-high-desert-medical-group-victorville-urgent-care-victorville\n",
            "review count: 37\n",
            "Sleeping for 82 seconds...\n",
            "Calling url: https://www.yelp.com/biz/st-mary-high-desert-medical-group-victorville-urgent-care-victorville?start=10\n",
            "NEXT SET OF REVIEWS SCRAPED: Count of reviews in new_resultset: 10\n",
            "Sleeping for 81 seconds...\n",
            "Calling url: https://www.yelp.com/biz/st-mary-high-desert-medical-group-victorville-urgent-care-victorville?start=20\n",
            "NEXT SET OF REVIEWS SCRAPED: Count of reviews in new_resultset: 10\n",
            "Sleeping for 81 seconds...\n",
            "Calling url: https://www.yelp.com/biz/st-mary-high-desert-medical-group-victorville-urgent-care-victorville?start=30\n",
            "NEXT SET OF REVIEWS SCRAPED: Count of reviews in new_resultset: 7\n",
            "Updated count of results in soup_resultset: 20\n",
            "Updated count of results in soup_resultset: 27\n",
            "<class 'pandas.core.series.Series'>\n",
            "8 of 870: https://www.yelp.com/biz/dr-mikel-walk-in-clinic-victorville - Previously searched - 10 reviews\n",
            "Sleeping for 128 seconds...\n",
            "Calling url: https://www.yelp.com/biz/dr-mikel-walk-in-clinic-victorville\n",
            "review count: 14\n",
            "Sleeping for 61 seconds...\n",
            "Calling url: https://www.yelp.com/biz/dr-mikel-walk-in-clinic-victorville?start=10\n",
            "NEXT SET OF REVIEWS SCRAPED: Count of reviews in new_resultset: 4\n",
            "<class 'pandas.core.series.Series'>\n",
            "9 of 870: https://www.yelp.com/biz/guevarra-v-loida-md-victorville - Previously searched - 5 reviews\n",
            "10 of 870: https://www.yelp.com/biz/gorenberg-daniel-md-victorville - Previously searched - NO REVIEWS\n",
            "<class 'pandas.core.series.Series'>\n",
            "11 of 870: https://www.yelp.com/biz/brams-michael-md-apple-valley - Previously searched - 6 reviews\n",
            "<class 'pandas.core.series.Series'>\n",
            "12 of 870: https://www.yelp.com/biz/mobley-elijah-md-apple-valley - Previously searched - 2 reviews\n",
            "<class 'pandas.core.series.Series'>\n",
            "13 of 870: https://www.yelp.com/biz/chaparral-physical-therapy-and-sports-medicine-hesperia - Previously searched - 1 reviews\n",
            "<class 'pandas.core.series.Series'>\n",
            "14 of 870: https://www.yelp.com/biz/high-desert-neuro-diagnostic-medical-group-apple-valley - Previously searched - 3 reviews\n",
            "<class 'pandas.core.series.Series'>\n",
            "15 of 870: https://www.yelp.com/biz/loida-v-guevara-victorville - Previously searched - 6 reviews\n",
            "<class 'pandas.core.series.Series'>\n",
            "16 of 870: https://www.yelp.com/biz/lesanemariam-banko-md-victorville - Previously searched - 3 reviews\n",
            "<class 'pandas.core.series.Series'>\n",
            "17 of 870: https://www.yelp.com/biz/john-d-amar-md-victorville - Previously searched - 2 reviews\n",
            "<class 'pandas.core.series.Series'>\n",
            "18 of 870: https://www.yelp.com/biz/sapna-gidvani-md-apple-valley - Previously searched - 1 reviews\n",
            "<class 'pandas.core.series.Series'>\n",
            "19 of 870: https://www.yelp.com/biz/ashvin-bhutwala-md-victorville - Previously searched - 2 reviews\n",
            "<class 'pandas.core.series.Series'>\n",
            "20 of 870: https://www.yelp.com/biz/king-lu-wei-teddy-jr-md-apple-valley - Previously searched - 10 reviews\n",
            "Sleeping for 121 seconds...\n",
            "Calling url: https://www.yelp.com/biz/king-lu-wei-teddy-jr-md-apple-valley\n",
            "review count: 10\n",
            "  ** 10 total reviews. Done\n",
            "<class 'pandas.core.series.Series'>\n",
            "21 of 870: https://www.yelp.com/biz/pacific-eye-institute-laser-center-victorville - Previously searched - 2 reviews\n",
            "<class 'pandas.core.series.Series'>\n",
            "22 of 870: https://www.yelp.com/biz/maloney-joseph-md-apple-valley - Previously searched - 9 reviews\n",
            "<class 'pandas.core.series.Series'>\n",
            "23 of 870: https://www.yelp.com/biz/inland-chiropractic-victorville - Previously searched - 10 reviews\n",
            "Sleeping for 124 seconds...\n",
            "Calling url: https://www.yelp.com/biz/inland-chiropractic-victorville\n",
            "review count: 10\n",
            "  ** 10 total reviews. Done\n",
            "<class 'pandas.core.series.Series'>\n",
            "24 of 870: https://www.yelp.com/biz/jacob-haiavy-md-victorville - Previously searched - 1 reviews\n",
            "<class 'pandas.core.series.Series'>\n",
            "25 of 870: https://www.yelp.com/biz/new-image-bariatric-surgical-associates-victorville - Previously searched - 1 reviews\n",
            "<class 'pandas.core.series.Series'>\n",
            "26 of 870: https://www.yelp.com/biz/melvani-ashok-md-victorville - Previously searched - 4 reviews\n",
            "<class 'pandas.core.series.Series'>\n",
            "27 of 870: https://www.yelp.com/biz/shima-hadidchi-md-victorville - Previously searched - 10 reviews\n",
            "Handle redirect to: https://www.yelp.com/biz/shima-hadidchi-md-victorville-3\n",
            "Sleeping for 123 seconds...\n",
            "Calling url: https://www.yelp.com/biz/shima-hadidchi-md-victorville-3\n",
            "review count: 17\n",
            "Sleeping for 82 seconds...\n",
            "Calling url: https://www.yelp.com/biz/shima-hadidchi-md-victorville-3?start=10\n",
            "NEXT SET OF REVIEWS SCRAPED: Count of reviews in new_resultset: 7\n",
            "<class 'pandas.core.series.Series'>\n",
            "28 of 870: https://www.yelp.com/biz/high-desert-orthopedics-sports-medicine-apple-valley - Previously searched - 8 reviews\n",
            "<class 'pandas.core.series.Series'>\n",
            "29 of 870: https://www.yelp.com/biz/aspen-pediatrics-clinic-victorville - Previously searched - 5 reviews\n",
            "<class 'pandas.core.series.Series'>\n",
            "30 of 870: https://www.yelp.com/biz/victor-valley-womens-center-apple-valley - Previously searched - 10 reviews\n",
            "Sleeping for 122 seconds...\n",
            "Calling url: https://www.yelp.com/biz/victor-valley-womens-center-apple-valley\n",
            "review count: 13\n",
            "Sleeping for 83 seconds...\n",
            "Calling url: https://www.yelp.com/biz/victor-valley-womens-center-apple-valley?start=10\n",
            "NEXT SET OF REVIEWS SCRAPED: Count of reviews in new_resultset: 3\n",
            "<class 'pandas.core.series.Series'>\n",
            "31 of 870: https://www.yelp.com/biz/fermin-esther-a-md-victorville - Previously searched - 3 reviews\n",
            "<class 'pandas.core.series.Series'>\n",
            "32 of 870: https://www.yelp.com/biz/infinity-medical-group-apple-valley-3 - Previously searched - 10 reviews\n",
            "Sleeping for 122 seconds...\n",
            "Calling url: https://www.yelp.com/biz/infinity-medical-group-apple-valley-3\n",
            "review count: 23\n",
            "Sleeping for 64 seconds...\n",
            "Calling url: https://www.yelp.com/biz/infinity-medical-group-apple-valley-3?start=10\n",
            "NEXT SET OF REVIEWS SCRAPED: Count of reviews in new_resultset: 10\n",
            "Sleeping for 65 seconds...\n",
            "Calling url: https://www.yelp.com/biz/infinity-medical-group-apple-valley-3?start=20\n",
            "NEXT SET OF REVIEWS SCRAPED: Count of reviews in new_resultset: 3\n",
            "Updated count of results in soup_resultset: 13\n",
            "<class 'pandas.core.series.Series'>\n",
            "33 of 870: https://www.yelp.com/biz/francisco-a-jimenez-md-victorville - Previously searched - 6 reviews\n",
            "<class 'pandas.core.series.Series'>\n",
            "34 of 870: https://www.yelp.com/biz/global-pain-care-victorville - Previously searched - 10 reviews\n",
            "Sleeping for 129 seconds...\n",
            "Calling url: https://www.yelp.com/biz/global-pain-care-victorville\n",
            "review count: 14\n",
            "Sleeping for 85 seconds...\n",
            "Calling url: https://www.yelp.com/biz/global-pain-care-victorville?start=10\n",
            "NEXT SET OF REVIEWS SCRAPED: Count of reviews in new_resultset: 4\n",
            "<class 'pandas.core.series.Series'>\n",
            "35 of 870: https://www.yelp.com/biz/peter-awad-dpm-hesperia - Previously searched - 3 reviews\n",
            "<class 'pandas.core.series.Series'>\n",
            "36 of 870: https://www.yelp.com/biz/radiant-primary-care-hesperia - Previously searched - 10 reviews\n",
            "Sleeping for 128 seconds...\n",
            "Calling url: https://www.yelp.com/biz/radiant-primary-care-hesperia\n",
            "review count: 11\n",
            "Sleeping for 80 seconds...\n",
            "Calling url: https://www.yelp.com/biz/radiant-primary-care-hesperia?start=10\n",
            "NEXT SET OF REVIEWS SCRAPED: Count of reviews in new_resultset: 0\n",
            "<class 'pandas.core.series.Series'>\n",
            "37 of 870: https://www.yelp.com/biz/amar-medical-associates-victorville - Previously searched - 10 reviews\n",
            "Sleeping for 123 seconds...\n"
          ],
          "name": "stdout"
        }
      ]
    },
    {
      "cell_type": "code",
      "metadata": {
        "id": "OPkvPGtL99R_"
      },
      "source": [
        "review_df.to_csv('/content/drive/MyDrive/Mydata/review_df.csv')"
      ],
      "execution_count": 26,
      "outputs": []
    }
  ]
}